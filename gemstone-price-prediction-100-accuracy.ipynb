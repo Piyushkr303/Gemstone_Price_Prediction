{
 "cells": [
  {
   "cell_type": "markdown",
   "id": "dd5e222b",
   "metadata": {
    "papermill": {
     "duration": 0.02294,
     "end_time": "2022-09-18T10:20:12.665619",
     "exception": false,
     "start_time": "2022-09-18T10:20:12.642679",
     "status": "completed"
    },
    "tags": []
   },
   "source": [
    "## Importing required libraries -"
   ]
  },
  {
   "cell_type": "code",
   "execution_count": 1,
   "id": "1a772ab1",
   "metadata": {
    "execution": {
     "iopub.execute_input": "2022-09-18T10:20:12.711822Z",
     "iopub.status.busy": "2022-09-18T10:20:12.711016Z",
     "iopub.status.idle": "2022-09-18T10:20:12.730429Z",
     "shell.execute_reply": "2022-09-18T10:20:12.729369Z"
    },
    "papermill": {
     "duration": 0.045991,
     "end_time": "2022-09-18T10:20:12.733265",
     "exception": false,
     "start_time": "2022-09-18T10:20:12.687274",
     "status": "completed"
    },
    "tags": []
   },
   "outputs": [
    {
     "name": "stdout",
     "output_type": "stream",
     "text": [
      "/kaggle/input/cubic-zirconia/cubic_zirconia.csv\n"
     ]
    }
   ],
   "source": [
    "# This Python 3 environment comes with many helpful analytics libraries installed\n",
    "# It is defined by the kaggle/python Docker image: https://github.com/kaggle/docker-python\n",
    "# For example, here's several helpful packages to load\n",
    "\n",
    "import numpy as np # linear algebra\n",
    "import pandas as pd # data processing, CSV file I/O (e.g. pd.read_csv)\n",
    "\n",
    "# Input data files are available in the read-only \"../input/\" directory\n",
    "# For example, running this (by clicking run or pressing Shift+Enter) will list all files under the input directory\n",
    "\n",
    "import os\n",
    "for dirname, _, filenames in os.walk('/kaggle/input'):\n",
    "    for filename in filenames:\n",
    "        print(os.path.join(dirname, filename))\n",
    "\n",
    "# You can write up to 20GB to the current directory (/kaggle/working/) that gets preserved as output when you create a version using \"Save & Run All\" \n",
    "# You can also write temporary files to /kaggle/temp/, but they won't be saved outside of the current session"
   ]
  },
  {
   "cell_type": "code",
   "execution_count": 2,
   "id": "6d38de8d",
   "metadata": {
    "execution": {
     "iopub.execute_input": "2022-09-18T10:20:12.780638Z",
     "iopub.status.busy": "2022-09-18T10:20:12.780267Z",
     "iopub.status.idle": "2022-09-18T10:20:13.743247Z",
     "shell.execute_reply": "2022-09-18T10:20:13.742378Z"
    },
    "papermill": {
     "duration": 0.988969,
     "end_time": "2022-09-18T10:20:13.745612",
     "exception": false,
     "start_time": "2022-09-18T10:20:12.756643",
     "status": "completed"
    },
    "tags": []
   },
   "outputs": [],
   "source": [
    "import numpy as np\n",
    "import pandas as pd\n",
    "import matplotlib.pyplot as plt\n",
    "import seaborn as sns\n",
    "import scipy.stats as stats\n",
    "\n",
    "%matplotlib inline"
   ]
  },
  {
   "cell_type": "code",
   "execution_count": 3,
   "id": "00688746",
   "metadata": {
    "execution": {
     "iopub.execute_input": "2022-09-18T10:20:13.800551Z",
     "iopub.status.busy": "2022-09-18T10:20:13.799273Z",
     "iopub.status.idle": "2022-09-18T10:20:13.803940Z",
     "shell.execute_reply": "2022-09-18T10:20:13.803230Z"
    },
    "papermill": {
     "duration": 0.03822,
     "end_time": "2022-09-18T10:20:13.806543",
     "exception": false,
     "start_time": "2022-09-18T10:20:13.768323",
     "status": "completed"
    },
    "tags": []
   },
   "outputs": [],
   "source": [
    "import warnings\n",
    "warnings.simplefilter('ignore')"
   ]
  },
  {
   "cell_type": "code",
   "execution_count": 4,
   "id": "04329f52",
   "metadata": {
    "execution": {
     "iopub.execute_input": "2022-09-18T10:20:13.857075Z",
     "iopub.status.busy": "2022-09-18T10:20:13.856200Z",
     "iopub.status.idle": "2022-09-18T10:20:13.861981Z",
     "shell.execute_reply": "2022-09-18T10:20:13.860866Z"
    },
    "papermill": {
     "duration": 0.032626,
     "end_time": "2022-09-18T10:20:13.864285",
     "exception": false,
     "start_time": "2022-09-18T10:20:13.831659",
     "status": "completed"
    },
    "tags": []
   },
   "outputs": [],
   "source": [
    "pd.set_option(\"display.max_columns\", None)\n",
    "pd.options.display.float_format = '{:.2f}'.format"
   ]
  },
  {
   "cell_type": "markdown",
   "id": "e542f0d9",
   "metadata": {
    "papermill": {
     "duration": 0.021807,
     "end_time": "2022-09-18T10:20:13.911591",
     "exception": false,
     "start_time": "2022-09-18T10:20:13.889784",
     "status": "completed"
    },
    "tags": []
   },
   "source": [
    "## Loading the dataset -"
   ]
  },
  {
   "cell_type": "code",
   "execution_count": 5,
   "id": "e8b9e6f2",
   "metadata": {
    "execution": {
     "iopub.execute_input": "2022-09-18T10:20:13.957698Z",
     "iopub.status.busy": "2022-09-18T10:20:13.957252Z",
     "iopub.status.idle": "2022-09-18T10:20:14.023274Z",
     "shell.execute_reply": "2022-09-18T10:20:14.022224Z"
    },
    "papermill": {
     "duration": 0.093147,
     "end_time": "2022-09-18T10:20:14.026268",
     "exception": false,
     "start_time": "2022-09-18T10:20:13.933121",
     "status": "completed"
    },
    "tags": []
   },
   "outputs": [],
   "source": [
    "data = pd.read_csv(r'/kaggle/input/cubic-zirconia/cubic_zirconia.csv')"
   ]
  },
  {
   "cell_type": "markdown",
   "id": "c5150d0d",
   "metadata": {
    "papermill": {
     "duration": 0.022562,
     "end_time": "2022-09-18T10:20:14.070996",
     "exception": false,
     "start_time": "2022-09-18T10:20:14.048434",
     "status": "completed"
    },
    "tags": []
   },
   "source": [
    "## Performing EDA & Data Cleaning -"
   ]
  },
  {
   "cell_type": "code",
   "execution_count": 6,
   "id": "36d1c440",
   "metadata": {
    "execution": {
     "iopub.execute_input": "2022-09-18T10:20:14.115506Z",
     "iopub.status.busy": "2022-09-18T10:20:14.115118Z",
     "iopub.status.idle": "2022-09-18T10:20:14.140231Z",
     "shell.execute_reply": "2022-09-18T10:20:14.139092Z"
    },
    "papermill": {
     "duration": 0.049852,
     "end_time": "2022-09-18T10:20:14.142640",
     "exception": false,
     "start_time": "2022-09-18T10:20:14.092788",
     "status": "completed"
    },
    "tags": []
   },
   "outputs": [
    {
     "data": {
      "text/html": [
       "<div>\n",
       "<style scoped>\n",
       "    .dataframe tbody tr th:only-of-type {\n",
       "        vertical-align: middle;\n",
       "    }\n",
       "\n",
       "    .dataframe tbody tr th {\n",
       "        vertical-align: top;\n",
       "    }\n",
       "\n",
       "    .dataframe thead th {\n",
       "        text-align: right;\n",
       "    }\n",
       "</style>\n",
       "<table border=\"1\" class=\"dataframe\">\n",
       "  <thead>\n",
       "    <tr style=\"text-align: right;\">\n",
       "      <th></th>\n",
       "      <th>Unnamed: 0</th>\n",
       "      <th>carat</th>\n",
       "      <th>cut</th>\n",
       "      <th>color</th>\n",
       "      <th>clarity</th>\n",
       "      <th>depth</th>\n",
       "      <th>table</th>\n",
       "      <th>x</th>\n",
       "      <th>y</th>\n",
       "      <th>z</th>\n",
       "      <th>price</th>\n",
       "    </tr>\n",
       "  </thead>\n",
       "  <tbody>\n",
       "    <tr>\n",
       "      <th>19677</th>\n",
       "      <td>19678</td>\n",
       "      <td>0.33</td>\n",
       "      <td>Premium</td>\n",
       "      <td>H</td>\n",
       "      <td>VS1</td>\n",
       "      <td>62.10</td>\n",
       "      <td>59.00</td>\n",
       "      <td>4.43</td>\n",
       "      <td>4.46</td>\n",
       "      <td>2.76</td>\n",
       "      <td>579</td>\n",
       "    </tr>\n",
       "    <tr>\n",
       "      <th>22713</th>\n",
       "      <td>22714</td>\n",
       "      <td>1.77</td>\n",
       "      <td>Premium</td>\n",
       "      <td>J</td>\n",
       "      <td>SI1</td>\n",
       "      <td>61.30</td>\n",
       "      <td>59.00</td>\n",
       "      <td>7.83</td>\n",
       "      <td>7.71</td>\n",
       "      <td>4.76</td>\n",
       "      <td>9704</td>\n",
       "    </tr>\n",
       "    <tr>\n",
       "      <th>25740</th>\n",
       "      <td>25741</td>\n",
       "      <td>1.00</td>\n",
       "      <td>Premium</td>\n",
       "      <td>J</td>\n",
       "      <td>VS1</td>\n",
       "      <td>62.80</td>\n",
       "      <td>57.00</td>\n",
       "      <td>6.39</td>\n",
       "      <td>6.35</td>\n",
       "      <td>4.00</td>\n",
       "      <td>4032</td>\n",
       "    </tr>\n",
       "    <tr>\n",
       "      <th>3985</th>\n",
       "      <td>3986</td>\n",
       "      <td>0.73</td>\n",
       "      <td>Premium</td>\n",
       "      <td>E</td>\n",
       "      <td>VS2</td>\n",
       "      <td>61.90</td>\n",
       "      <td>57.00</td>\n",
       "      <td>5.79</td>\n",
       "      <td>5.75</td>\n",
       "      <td>3.57</td>\n",
       "      <td>3127</td>\n",
       "    </tr>\n",
       "    <tr>\n",
       "      <th>4866</th>\n",
       "      <td>4867</td>\n",
       "      <td>1.03</td>\n",
       "      <td>Very Good</td>\n",
       "      <td>H</td>\n",
       "      <td>VS2</td>\n",
       "      <td>59.90</td>\n",
       "      <td>59.00</td>\n",
       "      <td>6.50</td>\n",
       "      <td>6.52</td>\n",
       "      <td>3.90</td>\n",
       "      <td>5620</td>\n",
       "    </tr>\n",
       "    <tr>\n",
       "      <th>24231</th>\n",
       "      <td>24232</td>\n",
       "      <td>0.25</td>\n",
       "      <td>Ideal</td>\n",
       "      <td>H</td>\n",
       "      <td>VVS1</td>\n",
       "      <td>62.50</td>\n",
       "      <td>56.00</td>\n",
       "      <td>4.06</td>\n",
       "      <td>4.03</td>\n",
       "      <td>2.53</td>\n",
       "      <td>577</td>\n",
       "    </tr>\n",
       "    <tr>\n",
       "      <th>9167</th>\n",
       "      <td>9168</td>\n",
       "      <td>0.73</td>\n",
       "      <td>Ideal</td>\n",
       "      <td>D</td>\n",
       "      <td>VVS2</td>\n",
       "      <td>62.20</td>\n",
       "      <td>56.00</td>\n",
       "      <td>5.79</td>\n",
       "      <td>5.73</td>\n",
       "      <td>3.58</td>\n",
       "      <td>4252</td>\n",
       "    </tr>\n",
       "    <tr>\n",
       "      <th>653</th>\n",
       "      <td>654</td>\n",
       "      <td>1.23</td>\n",
       "      <td>Premium</td>\n",
       "      <td>E</td>\n",
       "      <td>SI1</td>\n",
       "      <td>59.20</td>\n",
       "      <td>62.00</td>\n",
       "      <td>7.05</td>\n",
       "      <td>7.00</td>\n",
       "      <td>4.16</td>\n",
       "      <td>7274</td>\n",
       "    </tr>\n",
       "    <tr>\n",
       "      <th>6105</th>\n",
       "      <td>6106</td>\n",
       "      <td>1.23</td>\n",
       "      <td>Ideal</td>\n",
       "      <td>D</td>\n",
       "      <td>VVS2</td>\n",
       "      <td>62.40</td>\n",
       "      <td>55.00</td>\n",
       "      <td>6.87</td>\n",
       "      <td>6.82</td>\n",
       "      <td>4.27</td>\n",
       "      <td>13653</td>\n",
       "    </tr>\n",
       "    <tr>\n",
       "      <th>21427</th>\n",
       "      <td>21428</td>\n",
       "      <td>0.32</td>\n",
       "      <td>Ideal</td>\n",
       "      <td>E</td>\n",
       "      <td>IF</td>\n",
       "      <td>NaN</td>\n",
       "      <td>53.00</td>\n",
       "      <td>4.39</td>\n",
       "      <td>4.41</td>\n",
       "      <td>2.74</td>\n",
       "      <td>1018</td>\n",
       "    </tr>\n",
       "  </tbody>\n",
       "</table>\n",
       "</div>"
      ],
      "text/plain": [
       "       Unnamed: 0  carat        cut color clarity  depth  table    x    y  \\\n",
       "19677       19678   0.33    Premium     H     VS1  62.10  59.00 4.43 4.46   \n",
       "22713       22714   1.77    Premium     J     SI1  61.30  59.00 7.83 7.71   \n",
       "25740       25741   1.00    Premium     J     VS1  62.80  57.00 6.39 6.35   \n",
       "3985         3986   0.73    Premium     E     VS2  61.90  57.00 5.79 5.75   \n",
       "4866         4867   1.03  Very Good     H     VS2  59.90  59.00 6.50 6.52   \n",
       "24231       24232   0.25      Ideal     H    VVS1  62.50  56.00 4.06 4.03   \n",
       "9167         9168   0.73      Ideal     D    VVS2  62.20  56.00 5.79 5.73   \n",
       "653           654   1.23    Premium     E     SI1  59.20  62.00 7.05 7.00   \n",
       "6105         6106   1.23      Ideal     D    VVS2  62.40  55.00 6.87 6.82   \n",
       "21427       21428   0.32      Ideal     E      IF    NaN  53.00 4.39 4.41   \n",
       "\n",
       "         z  price  \n",
       "19677 2.76    579  \n",
       "22713 4.76   9704  \n",
       "25740 4.00   4032  \n",
       "3985  3.57   3127  \n",
       "4866  3.90   5620  \n",
       "24231 2.53    577  \n",
       "9167  3.58   4252  \n",
       "653   4.16   7274  \n",
       "6105  4.27  13653  \n",
       "21427 2.74   1018  "
      ]
     },
     "execution_count": 6,
     "metadata": {},
     "output_type": "execute_result"
    }
   ],
   "source": [
    "data.sample(10)"
   ]
  },
  {
   "cell_type": "markdown",
   "id": "65738083",
   "metadata": {
    "papermill": {
     "duration": 0.021954,
     "end_time": "2022-09-18T10:20:14.187565",
     "exception": false,
     "start_time": "2022-09-18T10:20:14.165611",
     "status": "completed"
    },
    "tags": []
   },
   "source": [
    "### Shape of the dataset -"
   ]
  },
  {
   "cell_type": "code",
   "execution_count": 7,
   "id": "e4785d54",
   "metadata": {
    "execution": {
     "iopub.execute_input": "2022-09-18T10:20:14.232686Z",
     "iopub.status.busy": "2022-09-18T10:20:14.232281Z",
     "iopub.status.idle": "2022-09-18T10:20:14.239113Z",
     "shell.execute_reply": "2022-09-18T10:20:14.238091Z"
    },
    "papermill": {
     "duration": 0.031977,
     "end_time": "2022-09-18T10:20:14.241420",
     "exception": false,
     "start_time": "2022-09-18T10:20:14.209443",
     "status": "completed"
    },
    "tags": []
   },
   "outputs": [
    {
     "data": {
      "text/plain": [
       "(26967, 11)"
      ]
     },
     "execution_count": 7,
     "metadata": {},
     "output_type": "execute_result"
    }
   ],
   "source": [
    "data.shape"
   ]
  },
  {
   "cell_type": "code",
   "execution_count": 8,
   "id": "9c7dab78",
   "metadata": {
    "execution": {
     "iopub.execute_input": "2022-09-18T10:20:14.301762Z",
     "iopub.status.busy": "2022-09-18T10:20:14.301397Z",
     "iopub.status.idle": "2022-09-18T10:20:14.307055Z",
     "shell.execute_reply": "2022-09-18T10:20:14.306030Z"
    },
    "papermill": {
     "duration": 0.034267,
     "end_time": "2022-09-18T10:20:14.309343",
     "exception": false,
     "start_time": "2022-09-18T10:20:14.275076",
     "status": "completed"
    },
    "tags": []
   },
   "outputs": [
    {
     "name": "stdout",
     "output_type": "stream",
     "text": [
      "No. of rows:  26967\n",
      "No. of columns:  11\n"
     ]
    }
   ],
   "source": [
    "print(\"No. of rows: \", data.shape[0])\n",
    "print(\"No. of columns: \", data.shape[1])"
   ]
  },
  {
   "cell_type": "markdown",
   "id": "2dd4db74",
   "metadata": {
    "papermill": {
     "duration": 0.024321,
     "end_time": "2022-09-18T10:20:14.358443",
     "exception": false,
     "start_time": "2022-09-18T10:20:14.334122",
     "status": "completed"
    },
    "tags": []
   },
   "source": [
    "The dataset contains 26967 rows and 11 columns."
   ]
  },
  {
   "cell_type": "markdown",
   "id": "7ce00471",
   "metadata": {
    "papermill": {
     "duration": 0.022443,
     "end_time": "2022-09-18T10:20:14.404487",
     "exception": false,
     "start_time": "2022-09-18T10:20:14.382044",
     "status": "completed"
    },
    "tags": []
   },
   "source": [
    "One of the columns 'Unnamed: 0' just represents the row number of it is useless for our analysis. \n",
    "Hence, it must be dropped."
   ]
  },
  {
   "cell_type": "code",
   "execution_count": 9,
   "id": "c8d3dd0a",
   "metadata": {
    "execution": {
     "iopub.execute_input": "2022-09-18T10:20:14.451146Z",
     "iopub.status.busy": "2022-09-18T10:20:14.450518Z",
     "iopub.status.idle": "2022-09-18T10:20:14.461538Z",
     "shell.execute_reply": "2022-09-18T10:20:14.460685Z"
    },
    "papermill": {
     "duration": 0.036685,
     "end_time": "2022-09-18T10:20:14.463715",
     "exception": false,
     "start_time": "2022-09-18T10:20:14.427030",
     "status": "completed"
    },
    "tags": []
   },
   "outputs": [],
   "source": [
    "data.drop(columns=['Unnamed: 0'], inplace=True)"
   ]
  },
  {
   "cell_type": "code",
   "execution_count": 10,
   "id": "1ad4f92b",
   "metadata": {
    "execution": {
     "iopub.execute_input": "2022-09-18T10:20:14.510115Z",
     "iopub.status.busy": "2022-09-18T10:20:14.509365Z",
     "iopub.status.idle": "2022-09-18T10:20:14.532749Z",
     "shell.execute_reply": "2022-09-18T10:20:14.531640Z"
    },
    "papermill": {
     "duration": 0.049262,
     "end_time": "2022-09-18T10:20:14.535276",
     "exception": false,
     "start_time": "2022-09-18T10:20:14.486014",
     "status": "completed"
    },
    "tags": []
   },
   "outputs": [
    {
     "name": "stdout",
     "output_type": "stream",
     "text": [
      "<class 'pandas.core.frame.DataFrame'>\n",
      "RangeIndex: 26967 entries, 0 to 26966\n",
      "Data columns (total 10 columns):\n",
      " #   Column   Non-Null Count  Dtype  \n",
      "---  ------   --------------  -----  \n",
      " 0   carat    26967 non-null  float64\n",
      " 1   cut      26967 non-null  object \n",
      " 2   color    26967 non-null  object \n",
      " 3   clarity  26967 non-null  object \n",
      " 4   depth    26270 non-null  float64\n",
      " 5   table    26967 non-null  float64\n",
      " 6   x        26967 non-null  float64\n",
      " 7   y        26967 non-null  float64\n",
      " 8   z        26967 non-null  float64\n",
      " 9   price    26967 non-null  int64  \n",
      "dtypes: float64(6), int64(1), object(3)\n",
      "memory usage: 2.1+ MB\n"
     ]
    }
   ],
   "source": [
    "data.info()"
   ]
  },
  {
   "cell_type": "code",
   "execution_count": 11,
   "id": "13ff0e0a",
   "metadata": {
    "execution": {
     "iopub.execute_input": "2022-09-18T10:20:14.582042Z",
     "iopub.status.busy": "2022-09-18T10:20:14.581338Z",
     "iopub.status.idle": "2022-09-18T10:20:14.620550Z",
     "shell.execute_reply": "2022-09-18T10:20:14.619618Z"
    },
    "papermill": {
     "duration": 0.065104,
     "end_time": "2022-09-18T10:20:14.622810",
     "exception": false,
     "start_time": "2022-09-18T10:20:14.557706",
     "status": "completed"
    },
    "tags": []
   },
   "outputs": [
    {
     "data": {
      "text/html": [
       "<div>\n",
       "<style scoped>\n",
       "    .dataframe tbody tr th:only-of-type {\n",
       "        vertical-align: middle;\n",
       "    }\n",
       "\n",
       "    .dataframe tbody tr th {\n",
       "        vertical-align: top;\n",
       "    }\n",
       "\n",
       "    .dataframe thead th {\n",
       "        text-align: right;\n",
       "    }\n",
       "</style>\n",
       "<table border=\"1\" class=\"dataframe\">\n",
       "  <thead>\n",
       "    <tr style=\"text-align: right;\">\n",
       "      <th></th>\n",
       "      <th>count</th>\n",
       "      <th>mean</th>\n",
       "      <th>std</th>\n",
       "      <th>min</th>\n",
       "      <th>25%</th>\n",
       "      <th>50%</th>\n",
       "      <th>75%</th>\n",
       "      <th>max</th>\n",
       "    </tr>\n",
       "  </thead>\n",
       "  <tbody>\n",
       "    <tr>\n",
       "      <th>carat</th>\n",
       "      <td>26967.00</td>\n",
       "      <td>0.80</td>\n",
       "      <td>0.48</td>\n",
       "      <td>0.20</td>\n",
       "      <td>0.40</td>\n",
       "      <td>0.70</td>\n",
       "      <td>1.05</td>\n",
       "      <td>4.50</td>\n",
       "    </tr>\n",
       "    <tr>\n",
       "      <th>depth</th>\n",
       "      <td>26270.00</td>\n",
       "      <td>61.75</td>\n",
       "      <td>1.41</td>\n",
       "      <td>50.80</td>\n",
       "      <td>61.00</td>\n",
       "      <td>61.80</td>\n",
       "      <td>62.50</td>\n",
       "      <td>73.60</td>\n",
       "    </tr>\n",
       "    <tr>\n",
       "      <th>table</th>\n",
       "      <td>26967.00</td>\n",
       "      <td>57.46</td>\n",
       "      <td>2.23</td>\n",
       "      <td>49.00</td>\n",
       "      <td>56.00</td>\n",
       "      <td>57.00</td>\n",
       "      <td>59.00</td>\n",
       "      <td>79.00</td>\n",
       "    </tr>\n",
       "    <tr>\n",
       "      <th>x</th>\n",
       "      <td>26967.00</td>\n",
       "      <td>5.73</td>\n",
       "      <td>1.13</td>\n",
       "      <td>0.00</td>\n",
       "      <td>4.71</td>\n",
       "      <td>5.69</td>\n",
       "      <td>6.55</td>\n",
       "      <td>10.23</td>\n",
       "    </tr>\n",
       "    <tr>\n",
       "      <th>y</th>\n",
       "      <td>26967.00</td>\n",
       "      <td>5.73</td>\n",
       "      <td>1.17</td>\n",
       "      <td>0.00</td>\n",
       "      <td>4.71</td>\n",
       "      <td>5.71</td>\n",
       "      <td>6.54</td>\n",
       "      <td>58.90</td>\n",
       "    </tr>\n",
       "    <tr>\n",
       "      <th>z</th>\n",
       "      <td>26967.00</td>\n",
       "      <td>3.54</td>\n",
       "      <td>0.72</td>\n",
       "      <td>0.00</td>\n",
       "      <td>2.90</td>\n",
       "      <td>3.52</td>\n",
       "      <td>4.04</td>\n",
       "      <td>31.80</td>\n",
       "    </tr>\n",
       "    <tr>\n",
       "      <th>price</th>\n",
       "      <td>26967.00</td>\n",
       "      <td>3939.52</td>\n",
       "      <td>4024.86</td>\n",
       "      <td>326.00</td>\n",
       "      <td>945.00</td>\n",
       "      <td>2375.00</td>\n",
       "      <td>5360.00</td>\n",
       "      <td>18818.00</td>\n",
       "    </tr>\n",
       "  </tbody>\n",
       "</table>\n",
       "</div>"
      ],
      "text/plain": [
       "         count    mean     std    min    25%     50%     75%      max\n",
       "carat 26967.00    0.80    0.48   0.20   0.40    0.70    1.05     4.50\n",
       "depth 26270.00   61.75    1.41  50.80  61.00   61.80   62.50    73.60\n",
       "table 26967.00   57.46    2.23  49.00  56.00   57.00   59.00    79.00\n",
       "x     26967.00    5.73    1.13   0.00   4.71    5.69    6.55    10.23\n",
       "y     26967.00    5.73    1.17   0.00   4.71    5.71    6.54    58.90\n",
       "z     26967.00    3.54    0.72   0.00   2.90    3.52    4.04    31.80\n",
       "price 26967.00 3939.52 4024.86 326.00 945.00 2375.00 5360.00 18818.00"
      ]
     },
     "execution_count": 11,
     "metadata": {},
     "output_type": "execute_result"
    }
   ],
   "source": [
    "data.describe().T"
   ]
  },
  {
   "cell_type": "markdown",
   "id": "ae15f014",
   "metadata": {
    "papermill": {
     "duration": 0.021736,
     "end_time": "2022-09-18T10:20:14.667339",
     "exception": false,
     "start_time": "2022-09-18T10:20:14.645603",
     "status": "completed"
    },
    "tags": []
   },
   "source": [
    "### Checking for null values -"
   ]
  },
  {
   "cell_type": "code",
   "execution_count": 12,
   "id": "dcb5a2cc",
   "metadata": {
    "execution": {
     "iopub.execute_input": "2022-09-18T10:20:14.713979Z",
     "iopub.status.busy": "2022-09-18T10:20:14.713611Z",
     "iopub.status.idle": "2022-09-18T10:20:14.725302Z",
     "shell.execute_reply": "2022-09-18T10:20:14.724344Z"
    },
    "papermill": {
     "duration": 0.037315,
     "end_time": "2022-09-18T10:20:14.727354",
     "exception": false,
     "start_time": "2022-09-18T10:20:14.690039",
     "status": "completed"
    },
    "tags": []
   },
   "outputs": [
    {
     "data": {
      "text/plain": [
       "carat        0\n",
       "cut          0\n",
       "color        0\n",
       "clarity      0\n",
       "depth      697\n",
       "table        0\n",
       "x            0\n",
       "y            0\n",
       "z            0\n",
       "price        0\n",
       "dtype: int64"
      ]
     },
     "execution_count": 12,
     "metadata": {},
     "output_type": "execute_result"
    }
   ],
   "source": [
    "data.isna().sum()"
   ]
  },
  {
   "cell_type": "markdown",
   "id": "8eb05251",
   "metadata": {
    "papermill": {
     "duration": 0.021767,
     "end_time": "2022-09-18T10:20:14.771886",
     "exception": false,
     "start_time": "2022-09-18T10:20:14.750119",
     "status": "completed"
    },
    "tags": []
   },
   "source": [
    "The column 'depth' contains 697 null values."
   ]
  },
  {
   "cell_type": "markdown",
   "id": "9f88f2dd",
   "metadata": {
    "papermill": {
     "duration": 0.022008,
     "end_time": "2022-09-18T10:20:14.816393",
     "exception": false,
     "start_time": "2022-09-18T10:20:14.794385",
     "status": "completed"
    },
    "tags": []
   },
   "source": [
    "### Checking for duplicate rows -"
   ]
  },
  {
   "cell_type": "code",
   "execution_count": 13,
   "id": "355ad4ff",
   "metadata": {
    "execution": {
     "iopub.execute_input": "2022-09-18T10:20:14.863164Z",
     "iopub.status.busy": "2022-09-18T10:20:14.862781Z",
     "iopub.status.idle": "2022-09-18T10:20:14.883245Z",
     "shell.execute_reply": "2022-09-18T10:20:14.881958Z"
    },
    "papermill": {
     "duration": 0.047163,
     "end_time": "2022-09-18T10:20:14.885854",
     "exception": false,
     "start_time": "2022-09-18T10:20:14.838691",
     "status": "completed"
    },
    "tags": []
   },
   "outputs": [
    {
     "name": "stdout",
     "output_type": "stream",
     "text": [
      "No. of duplicate rows:  34\n"
     ]
    }
   ],
   "source": [
    "duplicate_rows = data[data.duplicated()]\n",
    "print(\"No. of duplicate rows: \", duplicate_rows.shape[0])"
   ]
  },
  {
   "cell_type": "markdown",
   "id": "64f66f10",
   "metadata": {
    "papermill": {
     "duration": 0.023025,
     "end_time": "2022-09-18T10:20:14.932317",
     "exception": false,
     "start_time": "2022-09-18T10:20:14.909292",
     "status": "completed"
    },
    "tags": []
   },
   "source": [
    "There are 34 duplicate rows in this dataset.\n",
    "These rows should be dropped coz they are redundant and do not add any value to our analysis."
   ]
  },
  {
   "cell_type": "markdown",
   "id": "11711f18",
   "metadata": {
    "papermill": {
     "duration": 0.022869,
     "end_time": "2022-09-18T10:20:14.978566",
     "exception": false,
     "start_time": "2022-09-18T10:20:14.955697",
     "status": "completed"
    },
    "tags": []
   },
   "source": [
    "### Dropping all duplicate rows -"
   ]
  },
  {
   "cell_type": "code",
   "execution_count": 14,
   "id": "32d8b6d9",
   "metadata": {
    "execution": {
     "iopub.execute_input": "2022-09-18T10:20:15.026808Z",
     "iopub.status.busy": "2022-09-18T10:20:15.026400Z",
     "iopub.status.idle": "2022-09-18T10:20:15.048395Z",
     "shell.execute_reply": "2022-09-18T10:20:15.046653Z"
    },
    "papermill": {
     "duration": 0.048725,
     "end_time": "2022-09-18T10:20:15.050695",
     "exception": false,
     "start_time": "2022-09-18T10:20:15.001970",
     "status": "completed"
    },
    "tags": []
   },
   "outputs": [
    {
     "name": "stdout",
     "output_type": "stream",
     "text": [
      "No. of rows after dropping duplicates:  26933\n"
     ]
    }
   ],
   "source": [
    "data.drop_duplicates(inplace=True)\n",
    "print(\"No. of rows after dropping duplicates: \", data.shape[0])"
   ]
  },
  {
   "cell_type": "markdown",
   "id": "22643775",
   "metadata": {
    "papermill": {
     "duration": 0.022779,
     "end_time": "2022-09-18T10:20:15.096911",
     "exception": false,
     "start_time": "2022-09-18T10:20:15.074132",
     "status": "completed"
    },
    "tags": []
   },
   "source": [
    "### Imputing the null values -"
   ]
  },
  {
   "cell_type": "code",
   "execution_count": 15,
   "id": "de99d5a8",
   "metadata": {
    "execution": {
     "iopub.execute_input": "2022-09-18T10:20:15.145960Z",
     "iopub.status.busy": "2022-09-18T10:20:15.145576Z",
     "iopub.status.idle": "2022-09-18T10:20:15.154199Z",
     "shell.execute_reply": "2022-09-18T10:20:15.152729Z"
    },
    "papermill": {
     "duration": 0.035735,
     "end_time": "2022-09-18T10:20:15.156445",
     "exception": false,
     "start_time": "2022-09-18T10:20:15.120710",
     "status": "completed"
    },
    "tags": []
   },
   "outputs": [
    {
     "name": "stdout",
     "output_type": "stream",
     "text": [
      "Mean: 61.75\n",
      "Median: 61.80\n"
     ]
    }
   ],
   "source": [
    "print(\"Mean: {:.2f}\".format(data['depth'].mean()))\n",
    "print(\"Median: {:.2f}\".format(data['depth'].median()))"
   ]
  },
  {
   "cell_type": "markdown",
   "id": "113bbf35",
   "metadata": {
    "papermill": {
     "duration": 0.023107,
     "end_time": "2022-09-18T10:20:15.202779",
     "exception": false,
     "start_time": "2022-09-18T10:20:15.179672",
     "status": "completed"
    },
    "tags": []
   },
   "source": [
    "These values could be replaced with either the mean or the median of the entire column.\n",
    "In this case both the mean and the median are approximately equal i.e. around 61.8"
   ]
  },
  {
   "cell_type": "code",
   "execution_count": 16,
   "id": "7bc17eaf",
   "metadata": {
    "execution": {
     "iopub.execute_input": "2022-09-18T10:20:15.250634Z",
     "iopub.status.busy": "2022-09-18T10:20:15.250233Z",
     "iopub.status.idle": "2022-09-18T10:20:15.255964Z",
     "shell.execute_reply": "2022-09-18T10:20:15.254953Z"
    },
    "papermill": {
     "duration": 0.031819,
     "end_time": "2022-09-18T10:20:15.258095",
     "exception": false,
     "start_time": "2022-09-18T10:20:15.226276",
     "status": "completed"
    },
    "tags": []
   },
   "outputs": [],
   "source": [
    "data['depth'].fillna(61.8, inplace=True)"
   ]
  },
  {
   "cell_type": "markdown",
   "id": "26856c9b",
   "metadata": {
    "papermill": {
     "duration": 0.021168,
     "end_time": "2022-09-18T10:20:15.300978",
     "exception": false,
     "start_time": "2022-09-18T10:20:15.279810",
     "status": "completed"
    },
    "tags": []
   },
   "source": [
    "### Data type of the variables -"
   ]
  },
  {
   "cell_type": "code",
   "execution_count": 17,
   "id": "04d88589",
   "metadata": {
    "execution": {
     "iopub.execute_input": "2022-09-18T10:20:15.348066Z",
     "iopub.status.busy": "2022-09-18T10:20:15.347678Z",
     "iopub.status.idle": "2022-09-18T10:20:15.355932Z",
     "shell.execute_reply": "2022-09-18T10:20:15.354635Z"
    },
    "papermill": {
     "duration": 0.035019,
     "end_time": "2022-09-18T10:20:15.358956",
     "exception": false,
     "start_time": "2022-09-18T10:20:15.323937",
     "status": "completed"
    },
    "tags": []
   },
   "outputs": [
    {
     "name": "stdout",
     "output_type": "stream",
     "text": [
      "Numerical columns:  Index(['carat', 'depth', 'table', 'x', 'y', 'z', 'price'], dtype='object')\n"
     ]
    }
   ],
   "source": [
    "numerical_data = data.select_dtypes(include='number')\n",
    "num_cols = numerical_data.columns\n",
    "print(\"Numerical columns: \", num_cols)"
   ]
  },
  {
   "cell_type": "code",
   "execution_count": 18,
   "id": "d14ee592",
   "metadata": {
    "execution": {
     "iopub.execute_input": "2022-09-18T10:20:15.419910Z",
     "iopub.status.busy": "2022-09-18T10:20:15.419339Z",
     "iopub.status.idle": "2022-09-18T10:20:15.429104Z",
     "shell.execute_reply": "2022-09-18T10:20:15.427872Z"
    },
    "papermill": {
     "duration": 0.04343,
     "end_time": "2022-09-18T10:20:15.431574",
     "exception": false,
     "start_time": "2022-09-18T10:20:15.388144",
     "status": "completed"
    },
    "tags": []
   },
   "outputs": [
    {
     "name": "stdout",
     "output_type": "stream",
     "text": [
      "Categorical columns:  Index(['cut', 'color', 'clarity'], dtype='object')\n"
     ]
    }
   ],
   "source": [
    "categorical_data = data.select_dtypes(exclude='number')\n",
    "cat_cols = categorical_data.columns\n",
    "print(\"Categorical columns: \", cat_cols)"
   ]
  },
  {
   "cell_type": "markdown",
   "id": "ea0262c0",
   "metadata": {
    "papermill": {
     "duration": 0.023231,
     "end_time": "2022-09-18T10:20:15.485153",
     "exception": false,
     "start_time": "2022-09-18T10:20:15.461922",
     "status": "completed"
    },
    "tags": []
   },
   "source": [
    "Out of remaining 10 columns, 3 independent variables are of object type.\n",
    "Rest of the independent variables are floating point values.\n",
    "The dependent variable 'price' is of integer type."
   ]
  },
  {
   "cell_type": "markdown",
   "id": "58494b48",
   "metadata": {
    "papermill": {
     "duration": 0.022063,
     "end_time": "2022-09-18T10:20:15.529414",
     "exception": false,
     "start_time": "2022-09-18T10:20:15.507351",
     "status": "completed"
    },
    "tags": []
   },
   "source": [
    "### Checking for outliers -"
   ]
  },
  {
   "cell_type": "code",
   "execution_count": 19,
   "id": "3748434d",
   "metadata": {
    "execution": {
     "iopub.execute_input": "2022-09-18T10:20:15.576423Z",
     "iopub.status.busy": "2022-09-18T10:20:15.575350Z",
     "iopub.status.idle": "2022-09-18T10:20:15.587855Z",
     "shell.execute_reply": "2022-09-18T10:20:15.586138Z"
    },
    "papermill": {
     "duration": 0.038095,
     "end_time": "2022-09-18T10:20:15.589853",
     "exception": false,
     "start_time": "2022-09-18T10:20:15.551758",
     "status": "completed"
    },
    "tags": []
   },
   "outputs": [
    {
     "name": "stdout",
     "output_type": "stream",
     "text": [
      "Column name -  carat\n",
      "Mean: 0.80\n",
      "Std: 0.48\n",
      "Column name -  depth\n",
      "Mean: 61.75\n",
      "Std: 1.39\n",
      "Column name -  table\n",
      "Mean: 57.46\n",
      "Std: 2.23\n",
      "Column name -  x\n",
      "Mean: 5.73\n",
      "Std: 1.13\n",
      "Column name -  y\n",
      "Mean: 5.73\n",
      "Std: 1.17\n",
      "Column name -  z\n",
      "Mean: 3.54\n",
      "Std: 0.72\n",
      "Column name -  price\n",
      "Mean: 3937.53\n",
      "Std: 4022.55\n"
     ]
    }
   ],
   "source": [
    "for col in num_cols:\n",
    "    print(\"Column name - \", col)\n",
    "    print(\"Mean: {:.2f}\".format(data[col].mean()))\n",
    "    print(\"Std: {:.2f}\".format(data[col].std()))"
   ]
  },
  {
   "cell_type": "code",
   "execution_count": 20,
   "id": "d4dc1487",
   "metadata": {
    "execution": {
     "iopub.execute_input": "2022-09-18T10:20:15.638079Z",
     "iopub.status.busy": "2022-09-18T10:20:15.637138Z",
     "iopub.status.idle": "2022-09-18T10:20:16.004045Z",
     "shell.execute_reply": "2022-09-18T10:20:16.002919Z"
    },
    "papermill": {
     "duration": 0.394099,
     "end_time": "2022-09-18T10:20:16.006394",
     "exception": false,
     "start_time": "2022-09-18T10:20:15.612295",
     "status": "completed"
    },
    "tags": []
   },
   "outputs": [
    {
     "data": {
      "image/png": "[encoded data removed]",
      "text/plain": [
       "<Figure size 864x360 with 3 Axes>"
      ]
     },
     "metadata": {},
     "output_type": "display_data"
    }
   ],
   "source": [
    "sns.set(style=\"whitegrid\")\n",
    "fig = plt.figure(figsize=(12, 5))\n",
    "fig.subplots_adjust(right=1.5)\n",
    "\n",
    "plt.subplot(1, 3, 1)\n",
    "sns.boxplot(y=data['carat'])\n",
    "\n",
    "plt.subplot(1, 3, 2)\n",
    "sns.boxplot(y=data['depth'])\n",
    "\n",
    "plt.subplot(1, 3, 3)\n",
    "sns.boxplot(y=data['table'])\n",
    "\n",
    "plt.show()"
   ]
  },
  {
   "cell_type": "code",
   "execution_count": 21,
   "id": "b3960372",
   "metadata": {
    "execution": {
     "iopub.execute_input": "2022-09-18T10:20:16.055308Z",
     "iopub.status.busy": "2022-09-18T10:20:16.054890Z",
     "iopub.status.idle": "2022-09-18T10:20:16.396890Z",
     "shell.execute_reply": "2022-09-18T10:20:16.395806Z"
    },
    "papermill": {
     "duration": 0.368917,
     "end_time": "2022-09-18T10:20:16.399287",
     "exception": false,
     "start_time": "2022-09-18T10:20:16.030370",
     "status": "completed"
    },
    "tags": []
   },
   "outputs": [
    {
     "data": {
      "image/png": "[encoded data removed]",
      "text/plain": [
       "<Figure size 864x360 with 3 Axes>"
      ]
     },
     "metadata": {},
     "output_type": "display_data"
    }
   ],
   "source": [
    "sns.set(style=\"whitegrid\")\n",
    "fig = plt.figure(figsize=(12, 5))\n",
    "fig.subplots_adjust(right=1.5)\n",
    "\n",
    "plt.subplot(1, 3, 1)\n",
    "sns.boxplot(y=data['x'])\n",
    "\n",
    "plt.subplot(1, 3, 2)\n",
    "sns.boxplot(y=data['y'])\n",
    "\n",
    "plt.subplot(1, 3, 3)\n",
    "sns.boxplot(y=data['z'])\n",
    "\n",
    "plt.show()"
   ]
  },
  {
   "cell_type": "markdown",
   "id": "cb387ab4",
   "metadata": {
    "papermill": {
     "duration": 0.023635,
     "end_time": "2022-09-18T10:20:16.447829",
     "exception": false,
     "start_time": "2022-09-18T10:20:16.424194",
     "status": "completed"
    },
    "tags": []
   },
   "source": [
    "It seems like there are some outliers present in the dataset. So, we'll have to remove them."
   ]
  },
  {
   "cell_type": "markdown",
   "id": "055fc47a",
   "metadata": {
    "papermill": {
     "duration": 0.023694,
     "end_time": "2022-09-18T10:20:16.495743",
     "exception": false,
     "start_time": "2022-09-18T10:20:16.472049",
     "status": "completed"
    },
    "tags": []
   },
   "source": [
    "### Inter Quartile Range -"
   ]
  },
  {
   "cell_type": "code",
   "execution_count": 22,
   "id": "5124a67b",
   "metadata": {
    "execution": {
     "iopub.execute_input": "2022-09-18T10:20:16.547112Z",
     "iopub.status.busy": "2022-09-18T10:20:16.545892Z",
     "iopub.status.idle": "2022-09-18T10:20:16.567637Z",
     "shell.execute_reply": "2022-09-18T10:20:16.565789Z"
    },
    "papermill": {
     "duration": 0.050517,
     "end_time": "2022-09-18T10:20:16.570425",
     "exception": false,
     "start_time": "2022-09-18T10:20:16.519908",
     "status": "completed"
    },
    "tags": []
   },
   "outputs": [
    {
     "name": "stdout",
     "output_type": "stream",
     "text": [
      "carat      0.65\n",
      "depth      1.40\n",
      "table      3.00\n",
      "x          1.84\n",
      "y          1.83\n",
      "z          1.14\n",
      "price   4411.00\n",
      "dtype: float64\n"
     ]
    }
   ],
   "source": [
    "Q1 = data[num_cols].quantile(0.25)\n",
    "Q3 = data[num_cols].quantile(0.75)\n",
    "IQR = Q3 - Q1\n",
    "print(IQR)"
   ]
  },
  {
   "cell_type": "markdown",
   "id": "86311350",
   "metadata": {
    "papermill": {
     "duration": 0.023964,
     "end_time": "2022-09-18T10:20:16.619120",
     "exception": false,
     "start_time": "2022-09-18T10:20:16.595156",
     "status": "completed"
    },
    "tags": []
   },
   "source": [
    "### Removing any potential outliers -"
   ]
  },
  {
   "cell_type": "code",
   "execution_count": 23,
   "id": "0b7e3ce3",
   "metadata": {
    "execution": {
     "iopub.execute_input": "2022-09-18T10:20:16.669817Z",
     "iopub.status.busy": "2022-09-18T10:20:16.668683Z",
     "iopub.status.idle": "2022-09-18T10:20:16.707035Z",
     "shell.execute_reply": "2022-09-18T10:20:16.705663Z"
    },
    "papermill": {
     "duration": 0.066132,
     "end_time": "2022-09-18T10:20:16.710037",
     "exception": false,
     "start_time": "2022-09-18T10:20:16.643905",
     "status": "completed"
    },
    "tags": []
   },
   "outputs": [
    {
     "name": "stdout",
     "output_type": "stream",
     "text": [
      "No. of rows remaining:  23615\n"
     ]
    }
   ],
   "source": [
    "data = data[~((data<(Q1-1.5*IQR))|(data>(Q3+1.5*IQR))).any(axis=1)]\n",
    "print(\"No. of rows remaining: \", data.shape[0])"
   ]
  },
  {
   "cell_type": "code",
   "execution_count": 24,
   "id": "b22ab854",
   "metadata": {
    "execution": {
     "iopub.execute_input": "2022-09-18T10:20:16.762047Z",
     "iopub.status.busy": "2022-09-18T10:20:16.760979Z",
     "iopub.status.idle": "2022-09-18T10:20:17.115348Z",
     "shell.execute_reply": "2022-09-18T10:20:17.114131Z"
    },
    "papermill": {
     "duration": 0.383038,
     "end_time": "2022-09-18T10:20:17.117903",
     "exception": false,
     "start_time": "2022-09-18T10:20:16.734865",
     "status": "completed"
    },
    "tags": []
   },
   "outputs": [
    {
     "data": {
      "image/png": "[encoded data removed]",
      "text/plain": [
       "<Figure size 864x360 with 3 Axes>"
      ]
     },
     "metadata": {},
     "output_type": "display_data"
    }
   ],
   "source": [
    "sns.set(style=\"whitegrid\")\n",
    "fig = plt.figure(figsize=(12, 5))\n",
    "fig.subplots_adjust(right=1.5)\n",
    "\n",
    "plt.subplot(1, 3, 1)\n",
    "sns.boxplot(y=data['carat'])\n",
    "\n",
    "plt.subplot(1, 3, 2)\n",
    "sns.boxplot(y=data['depth'])\n",
    "\n",
    "plt.subplot(1, 3, 3)\n",
    "sns.boxplot(y=data['table'])\n",
    "\n",
    "plt.show()"
   ]
  },
  {
   "cell_type": "code",
   "execution_count": 25,
   "id": "d1ec0da4",
   "metadata": {
    "execution": {
     "iopub.execute_input": "2022-09-18T10:20:17.169078Z",
     "iopub.status.busy": "2022-09-18T10:20:17.168413Z",
     "iopub.status.idle": "2022-09-18T10:20:17.503847Z",
     "shell.execute_reply": "2022-09-18T10:20:17.502714Z"
    },
    "papermill": {
     "duration": 0.363868,
     "end_time": "2022-09-18T10:20:17.506351",
     "exception": false,
     "start_time": "2022-09-18T10:20:17.142483",
     "status": "completed"
    },
    "tags": []
   },
   "outputs": [
    {
     "data": {
      "image/png": "[encoded data removed]",
      "text/plain": [
       "<Figure size 864x360 with 3 Axes>"
      ]
     },
     "metadata": {},
     "output_type": "display_data"
    }
   ],
   "source": [
    "sns.set(style=\"whitegrid\")\n",
    "fig = plt.figure(figsize=(12, 5))\n",
    "fig.subplots_adjust(right=1.5)\n",
    "\n",
    "plt.subplot(1, 3, 1)\n",
    "sns.boxplot(y=data['x'])\n",
    "\n",
    "plt.subplot(1, 3, 2)\n",
    "sns.boxplot(y=data['y'])\n",
    "\n",
    "plt.subplot(1, 3, 3)\n",
    "sns.boxplot(y=data['z'])\n",
    "\n",
    "plt.show()"
   ]
  },
  {
   "cell_type": "markdown",
   "id": "14a6dd63",
   "metadata": {
    "papermill": {
     "duration": 0.024551,
     "end_time": "2022-09-18T10:20:17.556118",
     "exception": false,
     "start_time": "2022-09-18T10:20:17.531567",
     "status": "completed"
    },
    "tags": []
   },
   "source": [
    "## Analysis of Categorical columns -"
   ]
  },
  {
   "cell_type": "markdown",
   "id": "2f051c2d",
   "metadata": {
    "papermill": {
     "duration": 0.024259,
     "end_time": "2022-09-18T10:20:17.605131",
     "exception": false,
     "start_time": "2022-09-18T10:20:17.580872",
     "status": "completed"
    },
    "tags": []
   },
   "source": [
    "Data distribution based on the cut quality of cubic zirconia -"
   ]
  },
  {
   "cell_type": "code",
   "execution_count": 26,
   "id": "45f643a1",
   "metadata": {
    "execution": {
     "iopub.execute_input": "2022-09-18T10:20:17.657466Z",
     "iopub.status.busy": "2022-09-18T10:20:17.656823Z",
     "iopub.status.idle": "2022-09-18T10:20:17.801994Z",
     "shell.execute_reply": "2022-09-18T10:20:17.800245Z"
    },
    "papermill": {
     "duration": 0.175396,
     "end_time": "2022-09-18T10:20:17.806294",
     "exception": false,
     "start_time": "2022-09-18T10:20:17.630898",
     "status": "completed"
    },
    "tags": []
   },
   "outputs": [
    {
     "data": {
      "image/png": "[encoded data removed]",
      "text/plain": [
       "<Figure size 504x432 with 1 Axes>"
      ]
     },
     "metadata": {},
     "output_type": "display_data"
    }
   ],
   "source": [
    "x = data['cut'].value_counts().values\n",
    "plt.figure(figsize=(7, 6))\n",
    "plt.pie(x, center=(0, 0), radius=1.5, labels=data['cut'].unique(), autopct='%1.1f%%', pctdistance=0.5)\n",
    "plt.axis('equal')\n",
    "plt.show()"
   ]
  },
  {
   "cell_type": "markdown",
   "id": "f2a4b73e",
   "metadata": {
    "papermill": {
     "duration": 0.028906,
     "end_time": "2022-09-18T10:20:17.894849",
     "exception": false,
     "start_time": "2022-09-18T10:20:17.865943",
     "status": "completed"
    },
    "tags": []
   },
   "source": [
    "The pie chart shows that most of the diamonds are of Ideal cut quality, followed by Premium and Very Good."
   ]
  },
  {
   "cell_type": "markdown",
   "id": "ae12d989",
   "metadata": {
    "papermill": {
     "duration": 0.025699,
     "end_time": "2022-09-18T10:20:17.945854",
     "exception": false,
     "start_time": "2022-09-18T10:20:17.920155",
     "status": "completed"
    },
    "tags": []
   },
   "source": [
    "Data distribution based on the color of cubic zirconia -"
   ]
  },
  {
   "cell_type": "code",
   "execution_count": 27,
   "id": "6f1a9064",
   "metadata": {
    "execution": {
     "iopub.execute_input": "2022-09-18T10:20:17.998465Z",
     "iopub.status.busy": "2022-09-18T10:20:17.997267Z",
     "iopub.status.idle": "2022-09-18T10:20:18.247555Z",
     "shell.execute_reply": "2022-09-18T10:20:18.246433Z"
    },
    "papermill": {
     "duration": 0.279313,
     "end_time": "2022-09-18T10:20:18.250087",
     "exception": false,
     "start_time": "2022-09-18T10:20:17.970774",
     "status": "completed"
    },
    "tags": []
   },
   "outputs": [
    {
     "data": {
      "image/png": "[encoded data removed]",
      "text/plain": [
       "<Figure size 576x360 with 1 Axes>"
      ]
     },
     "metadata": {},
     "output_type": "display_data"
    }
   ],
   "source": [
    "plt.figure(figsize=(8, 5))\n",
    "sns.countplot(x='color', data=data)\n",
    "plt.show()"
   ]
  },
  {
   "cell_type": "markdown",
   "id": "8f50d090",
   "metadata": {
    "papermill": {
     "duration": 0.025463,
     "end_time": "2022-09-18T10:20:18.301821",
     "exception": false,
     "start_time": "2022-09-18T10:20:18.276358",
     "status": "completed"
    },
    "tags": []
   },
   "source": [
    "This shows that most of the diamonds are of color 'G', followed by 'E' and 'F'."
   ]
  },
  {
   "cell_type": "markdown",
   "id": "de1724d2",
   "metadata": {
    "papermill": {
     "duration": 0.025215,
     "end_time": "2022-09-18T10:20:18.353736",
     "exception": false,
     "start_time": "2022-09-18T10:20:18.328521",
     "status": "completed"
    },
    "tags": []
   },
   "source": [
    "Data distribution based on the clarity of cubic zirconia -"
   ]
  },
  {
   "cell_type": "code",
   "execution_count": 28,
   "id": "a0ad6654",
   "metadata": {
    "execution": {
     "iopub.execute_input": "2022-09-18T10:20:18.406955Z",
     "iopub.status.busy": "2022-09-18T10:20:18.406554Z",
     "iopub.status.idle": "2022-09-18T10:20:18.656730Z",
     "shell.execute_reply": "2022-09-18T10:20:18.655573Z"
    },
    "papermill": {
     "duration": 0.280358,
     "end_time": "2022-09-18T10:20:18.659209",
     "exception": false,
     "start_time": "2022-09-18T10:20:18.378851",
     "status": "completed"
    },
    "tags": []
   },
   "outputs": [
    {
     "data": {
      "image/png": "[encoded data removed]",
      "text/plain": [
       "<Figure size 576x360 with 1 Axes>"
      ]
     },
     "metadata": {},
     "output_type": "display_data"
    }
   ],
   "source": [
    "plt.figure(figsize=(8, 5))\n",
    "sns.countplot(x='clarity', data=data)\n",
    "plt.show()"
   ]
  },
  {
   "cell_type": "markdown",
   "id": "3c1b7459",
   "metadata": {
    "papermill": {
     "duration": 0.025914,
     "end_time": "2022-09-18T10:20:18.711316",
     "exception": false,
     "start_time": "2022-09-18T10:20:18.685402",
     "status": "completed"
    },
    "tags": []
   },
   "source": [
    "The above graph shows that most of the diamonds are of SI1 quality, followed by VS2 and VS1."
   ]
  },
  {
   "cell_type": "markdown",
   "id": "7536e5b2",
   "metadata": {
    "papermill": {
     "duration": 0.02601,
     "end_time": "2022-09-18T10:20:18.763762",
     "exception": false,
     "start_time": "2022-09-18T10:20:18.737752",
     "status": "completed"
    },
    "tags": []
   },
   "source": [
    "Average price categrized by Cut, Color & Clarity of the diamonds -"
   ]
  },
  {
   "cell_type": "code",
   "execution_count": 29,
   "id": "8992f9bb",
   "metadata": {
    "execution": {
     "iopub.execute_input": "2022-09-18T10:20:18.818109Z",
     "iopub.status.busy": "2022-09-18T10:20:18.817607Z",
     "iopub.status.idle": "2022-09-18T10:20:19.432646Z",
     "shell.execute_reply": "2022-09-18T10:20:19.431449Z"
    },
    "papermill": {
     "duration": 0.645183,
     "end_time": "2022-09-18T10:20:19.435187",
     "exception": false,
     "start_time": "2022-09-18T10:20:18.790004",
     "status": "completed"
    },
    "tags": []
   },
   "outputs": [
    {
     "data": {
      "image/png": "[encoded data removed]",
      "text/plain": [
       "<Figure size 864x360 with 3 Axes>"
      ]
     },
     "metadata": {},
     "output_type": "display_data"
    }
   ],
   "source": [
    "fig = plt.figure(figsize=(12, 5))\n",
    "fig.subplots_adjust(right=1.5)\n",
    "\n",
    "plt.subplot(1, 3, 1)\n",
    "data['price'].groupby(data['cut']).mean().plot(kind='barh', color='blue')\n",
    "\n",
    "plt.subplot(1, 3, 2)\n",
    "data['price'].groupby(data['color']).mean().plot(kind='barh', color='red')\n",
    "\n",
    "plt.subplot(1, 3, 3)\n",
    "data['price'].groupby(data['clarity']).mean().plot(kind='barh', color='green')\n",
    "\n",
    "plt.show()"
   ]
  },
  {
   "cell_type": "markdown",
   "id": "7d85abab",
   "metadata": {
    "papermill": {
     "duration": 0.025955,
     "end_time": "2022-09-18T10:20:19.487912",
     "exception": false,
     "start_time": "2022-09-18T10:20:19.461957",
     "status": "completed"
    },
    "tags": []
   },
   "source": [
    "Therefore, the average price of the diamonds is maximum for those with Fair quality, 'J' color and SI2 clarity."
   ]
  },
  {
   "cell_type": "markdown",
   "id": "026b8d35",
   "metadata": {
    "papermill": {
     "duration": 0.025814,
     "end_time": "2022-09-18T10:20:19.540225",
     "exception": false,
     "start_time": "2022-09-18T10:20:19.514411",
     "status": "completed"
    },
    "tags": []
   },
   "source": [
    "## Analysis of Numerical variables -"
   ]
  },
  {
   "cell_type": "markdown",
   "id": "fd61462b",
   "metadata": {
    "papermill": {
     "duration": 0.026275,
     "end_time": "2022-09-18T10:20:19.592986",
     "exception": false,
     "start_time": "2022-09-18T10:20:19.566711",
     "status": "completed"
    },
    "tags": []
   },
   "source": [
    "### Checking the distribution of data -"
   ]
  },
  {
   "cell_type": "code",
   "execution_count": 30,
   "id": "789feb0a",
   "metadata": {
    "execution": {
     "iopub.execute_input": "2022-09-18T10:20:19.649044Z",
     "iopub.status.busy": "2022-09-18T10:20:19.648224Z",
     "iopub.status.idle": "2022-09-18T10:20:20.921483Z",
     "shell.execute_reply": "2022-09-18T10:20:20.920206Z"
    },
    "papermill": {
     "duration": 1.304182,
     "end_time": "2022-09-18T10:20:20.924081",
     "exception": false,
     "start_time": "2022-09-18T10:20:19.619899",
     "status": "completed"
    },
    "tags": []
   },
   "outputs": [
    {
     "data": {
      "image/png": "[encoded data removed]",
      "text/plain": [
       "<Figure size 1080x576 with 9 Axes>"
      ]
     },
     "metadata": {},
     "output_type": "display_data"
    }
   ],
   "source": [
    "data[num_cols].hist(figsize=(15, 8))\n",
    "plt.show()"
   ]
  },
  {
   "cell_type": "code",
   "execution_count": 31,
   "id": "57139312",
   "metadata": {
    "execution": {
     "iopub.execute_input": "2022-09-18T10:20:20.980190Z",
     "iopub.status.busy": "2022-09-18T10:20:20.979730Z",
     "iopub.status.idle": "2022-09-18T10:20:20.992623Z",
     "shell.execute_reply": "2022-09-18T10:20:20.991667Z"
    },
    "papermill": {
     "duration": 0.043504,
     "end_time": "2022-09-18T10:20:20.994791",
     "exception": false,
     "start_time": "2022-09-18T10:20:20.951287",
     "status": "completed"
    },
    "tags": []
   },
   "outputs": [
    {
     "data": {
      "text/plain": [
       "carat    0.72\n",
       "depth   -0.20\n",
       "table    0.39\n",
       "x        0.27\n",
       "y        0.26\n",
       "z        0.27\n",
       "price    1.21\n",
       "dtype: float64"
      ]
     },
     "execution_count": 31,
     "metadata": {},
     "output_type": "execute_result"
    }
   ],
   "source": [
    "data[num_cols].skew()"
   ]
  },
  {
   "cell_type": "markdown",
   "id": "b433b079",
   "metadata": {
    "papermill": {
     "duration": 0.026942,
     "end_time": "2022-09-18T10:20:21.048925",
     "exception": false,
     "start_time": "2022-09-18T10:20:21.021983",
     "status": "completed"
    },
    "tags": []
   },
   "source": [
    "Here, we can clearly see that the 'price' and 'carat' columns are highly skewed towards the right."
   ]
  },
  {
   "cell_type": "code",
   "execution_count": 32,
   "id": "a8831ce1",
   "metadata": {
    "execution": {
     "iopub.execute_input": "2022-09-18T10:20:21.105530Z",
     "iopub.status.busy": "2022-09-18T10:20:21.105047Z",
     "iopub.status.idle": "2022-09-18T10:20:21.117307Z",
     "shell.execute_reply": "2022-09-18T10:20:21.116371Z"
    },
    "papermill": {
     "duration": 0.0436,
     "end_time": "2022-09-18T10:20:21.119543",
     "exception": false,
     "start_time": "2022-09-18T10:20:21.075943",
     "status": "completed"
    },
    "tags": []
   },
   "outputs": [
    {
     "data": {
      "text/plain": [
       "carat   -0.34\n",
       "depth    0.01\n",
       "table   -0.16\n",
       "x       -1.10\n",
       "y       -1.11\n",
       "z       -1.10\n",
       "price    0.67\n",
       "dtype: float64"
      ]
     },
     "execution_count": 32,
     "metadata": {},
     "output_type": "execute_result"
    }
   ],
   "source": [
    "data[num_cols].kurt()"
   ]
  },
  {
   "cell_type": "code",
   "execution_count": 33,
   "id": "f6dbb0d7",
   "metadata": {
    "execution": {
     "iopub.execute_input": "2022-09-18T10:20:21.175564Z",
     "iopub.status.busy": "2022-09-18T10:20:21.174604Z",
     "iopub.status.idle": "2022-09-18T10:20:21.181607Z",
     "shell.execute_reply": "2022-09-18T10:20:21.180611Z"
    },
    "papermill": {
     "duration": 0.037789,
     "end_time": "2022-09-18T10:20:21.184165",
     "exception": false,
     "start_time": "2022-09-18T10:20:21.146376",
     "status": "completed"
    },
    "tags": []
   },
   "outputs": [],
   "source": [
    "def diagnostic_plot(data, col):\n",
    "    fig = plt.figure(figsize=(9, 4))\n",
    "    fig.subplots_adjust(right=1.5)\n",
    "    \n",
    "    plt.subplot(1, 2, 1)\n",
    "    sns.distplot(data[col], kde=True, color='red')\n",
    "    plt.title('Histogram')\n",
    "    \n",
    "    plt.subplot(1, 2, 2)\n",
    "    stats.probplot(data[col], dist='norm', fit=True, plot=plt)\n",
    "    plt.title('Q-Q Plot')\n",
    "    \n",
    "    plt.show()"
   ]
  },
  {
   "cell_type": "code",
   "execution_count": 34,
   "id": "9329c1f5",
   "metadata": {
    "execution": {
     "iopub.execute_input": "2022-09-18T10:20:21.238816Z",
     "iopub.status.busy": "2022-09-18T10:20:21.238422Z",
     "iopub.status.idle": "2022-09-18T10:20:26.222398Z",
     "shell.execute_reply": "2022-09-18T10:20:26.221468Z"
    },
    "papermill": {
     "duration": 5.013896,
     "end_time": "2022-09-18T10:20:26.224606",
     "exception": false,
     "start_time": "2022-09-18T10:20:21.210710",
     "status": "completed"
    },
    "tags": []
   },
   "outputs": [
    {
     "data": {
      "image/png": "[encoded data removed]",
      "text/plain": [
       "<Figure size 648x288 with 2 Axes>"
      ]
     },
     "metadata": {},
     "output_type": "display_data"
    },
    {
     "data": {
      "image/png": "[encoded data removed]",
      "text/plain": [
       "<Figure size 648x288 with 2 Axes>"
      ]
     },
     "metadata": {},
     "output_type": "display_data"
    },
    {
     "data": {
      "image/png": "[encoded data removed]",
      "text/plain": [
       "<Figure size 648x288 with 2 Axes>"
      ]
     },
     "metadata": {},
     "output_type": "display_data"
    },
    {
     "data": {
      "image/png": "[encoded data removed]",
      "text/plain": [
       "<Figure size 648x288 with 2 Axes>"
      ]
     },
     "metadata": {},
     "output_type": "display_data"
    },
    {
     "data": {
      "image/png": "[encoded data removed]",
      "text/plain": [
       "<Figure size 648x288 with 2 Axes>"
      ]
     },
     "metadata": {},
     "output_type": "display_data"
    },
    {
     "data": {
      "image/png": "[encoded data removed]",
      "text/plain": [
       "<Figure size 648x288 with 2 Axes>"
      ]
     },
     "metadata": {},
     "output_type": "display_data"
    },
    {
     "data": {
      "image/png": "[encoded data removed]",
      "text/plain": [
       "<Figure size 648x288 with 2 Axes>"
      ]
     },
     "metadata": {},
     "output_type": "display_data"
    }
   ],
   "source": [
    "for col in num_cols:\n",
    "    diagnostic_plot(data, col)"
   ]
  },
  {
   "cell_type": "markdown",
   "id": "b509c703",
   "metadata": {
    "papermill": {
     "duration": 0.03193,
     "end_time": "2022-09-18T10:20:26.289193",
     "exception": false,
     "start_time": "2022-09-18T10:20:26.257263",
     "status": "completed"
    },
    "tags": []
   },
   "source": [
    "### Checking the correlation between independent variables -"
   ]
  },
  {
   "cell_type": "code",
   "execution_count": 35,
   "id": "8907ddd8",
   "metadata": {
    "execution": {
     "iopub.execute_input": "2022-09-18T10:20:26.355129Z",
     "iopub.status.busy": "2022-09-18T10:20:26.354494Z",
     "iopub.status.idle": "2022-09-18T10:20:26.392097Z",
     "shell.execute_reply": "2022-09-18T10:20:26.391268Z"
    },
    "papermill": {
     "duration": 0.072982,
     "end_time": "2022-09-18T10:20:26.394459",
     "exception": false,
     "start_time": "2022-09-18T10:20:26.321477",
     "status": "completed"
    },
    "tags": []
   },
   "outputs": [
    {
     "data": {
      "text/html": [
       "<div>\n",
       "<style scoped>\n",
       "    .dataframe tbody tr th:only-of-type {\n",
       "        vertical-align: middle;\n",
       "    }\n",
       "\n",
       "    .dataframe tbody tr th {\n",
       "        vertical-align: top;\n",
       "    }\n",
       "\n",
       "    .dataframe thead th {\n",
       "        text-align: right;\n",
       "    }\n",
       "</style>\n",
       "<table border=\"1\" class=\"dataframe\">\n",
       "  <thead>\n",
       "    <tr style=\"text-align: right;\">\n",
       "      <th></th>\n",
       "      <th>carat</th>\n",
       "      <th>depth</th>\n",
       "      <th>table</th>\n",
       "      <th>x</th>\n",
       "      <th>y</th>\n",
       "      <th>z</th>\n",
       "    </tr>\n",
       "  </thead>\n",
       "  <tbody>\n",
       "    <tr>\n",
       "      <th>carat</th>\n",
       "      <td>1.00</td>\n",
       "      <td>0.05</td>\n",
       "      <td>0.19</td>\n",
       "      <td>1.00</td>\n",
       "      <td>1.00</td>\n",
       "      <td>1.00</td>\n",
       "    </tr>\n",
       "    <tr>\n",
       "      <th>depth</th>\n",
       "      <td>0.05</td>\n",
       "      <td>1.00</td>\n",
       "      <td>-0.18</td>\n",
       "      <td>-0.00</td>\n",
       "      <td>-0.01</td>\n",
       "      <td>0.11</td>\n",
       "    </tr>\n",
       "    <tr>\n",
       "      <th>table</th>\n",
       "      <td>0.19</td>\n",
       "      <td>-0.18</td>\n",
       "      <td>1.00</td>\n",
       "      <td>0.19</td>\n",
       "      <td>0.18</td>\n",
       "      <td>0.16</td>\n",
       "    </tr>\n",
       "    <tr>\n",
       "      <th>x</th>\n",
       "      <td>1.00</td>\n",
       "      <td>-0.00</td>\n",
       "      <td>0.19</td>\n",
       "      <td>1.00</td>\n",
       "      <td>1.00</td>\n",
       "      <td>0.99</td>\n",
       "    </tr>\n",
       "    <tr>\n",
       "      <th>y</th>\n",
       "      <td>1.00</td>\n",
       "      <td>-0.01</td>\n",
       "      <td>0.18</td>\n",
       "      <td>1.00</td>\n",
       "      <td>1.00</td>\n",
       "      <td>0.99</td>\n",
       "    </tr>\n",
       "    <tr>\n",
       "      <th>z</th>\n",
       "      <td>1.00</td>\n",
       "      <td>0.11</td>\n",
       "      <td>0.16</td>\n",
       "      <td>0.99</td>\n",
       "      <td>0.99</td>\n",
       "      <td>1.00</td>\n",
       "    </tr>\n",
       "  </tbody>\n",
       "</table>\n",
       "</div>"
      ],
      "text/plain": [
       "       carat  depth  table     x     y    z\n",
       "carat   1.00   0.05   0.19  1.00  1.00 1.00\n",
       "depth   0.05   1.00  -0.18 -0.00 -0.01 0.11\n",
       "table   0.19  -0.18   1.00  0.19  0.18 0.16\n",
       "x       1.00  -0.00   0.19  1.00  1.00 0.99\n",
       "y       1.00  -0.01   0.18  1.00  1.00 0.99\n",
       "z       1.00   0.11   0.16  0.99  0.99 1.00"
      ]
     },
     "execution_count": 35,
     "metadata": {},
     "output_type": "execute_result"
    }
   ],
   "source": [
    "X = data.drop('price', axis=1)\n",
    "X.corr(method='spearman')"
   ]
  },
  {
   "cell_type": "markdown",
   "id": "01a2ad5e",
   "metadata": {
    "papermill": {
     "duration": 0.041181,
     "end_time": "2022-09-18T10:20:26.477535",
     "exception": false,
     "start_time": "2022-09-18T10:20:26.436354",
     "status": "completed"
    },
    "tags": []
   },
   "source": [
    "The dimension columns x, y & z are highly correlated with each other.\n",
    "The 'carat' columns is highly correlated with each one of the dimension columns.\n",
    "Hence, we might remove 1 or 2 of these columns to avoid multi-collinearity."
   ]
  },
  {
   "cell_type": "markdown",
   "id": "0a130aeb",
   "metadata": {
    "papermill": {
     "duration": 0.031853,
     "end_time": "2022-09-18T10:20:26.543222",
     "exception": false,
     "start_time": "2022-09-18T10:20:26.511369",
     "status": "completed"
    },
    "tags": []
   },
   "source": [
    "### Checking the correlation of independent variables with dependent variable -"
   ]
  },
  {
   "cell_type": "code",
   "execution_count": 36,
   "id": "edea0d87",
   "metadata": {
    "execution": {
     "iopub.execute_input": "2022-09-18T10:20:26.609463Z",
     "iopub.status.busy": "2022-09-18T10:20:26.608665Z",
     "iopub.status.idle": "2022-09-18T10:20:26.847512Z",
     "shell.execute_reply": "2022-09-18T10:20:26.846408Z"
    },
    "papermill": {
     "duration": 0.274572,
     "end_time": "2022-09-18T10:20:26.849732",
     "exception": false,
     "start_time": "2022-09-18T10:20:26.575160",
     "status": "completed"
    },
    "tags": []
   },
   "outputs": [
    {
     "data": {
      "image/png": "[encoded data removed]",
      "text/plain": [
       "<Figure size 576x360 with 1 Axes>"
      ]
     },
     "metadata": {},
     "output_type": "display_data"
    }
   ],
   "source": [
    "plt.figure(figsize=(8, 5))\n",
    "X.corrwith(data['price']).plot(kind='barh', title=\"Correlation with 'Exited' column -\")\n",
    "plt.show()"
   ]
  },
  {
   "cell_type": "markdown",
   "id": "6e13cc0f",
   "metadata": {
    "papermill": {
     "duration": 0.032084,
     "end_time": "2022-09-18T10:20:26.915250",
     "exception": false,
     "start_time": "2022-09-18T10:20:26.883166",
     "status": "completed"
    },
    "tags": []
   },
   "source": [
    "The columns 'depth' & 'table' have significantly low correlation (0.02 & 0.18 repectively) with the output column 'price'.\n",
    "They are not contributing much towards the generation of a particular outcome. \n",
    "Hence, they must be removed to reduce the dimensionality of the dataset."
   ]
  },
  {
   "cell_type": "markdown",
   "id": "457acbd9",
   "metadata": {
    "papermill": {
     "duration": 0.031867,
     "end_time": "2022-09-18T10:20:26.979435",
     "exception": false,
     "start_time": "2022-09-18T10:20:26.947568",
     "status": "completed"
    },
    "tags": []
   },
   "source": [
    "### Plotting the Correlation Matrix"
   ]
  },
  {
   "cell_type": "code",
   "execution_count": 37,
   "id": "f82e7a04",
   "metadata": {
    "execution": {
     "iopub.execute_input": "2022-09-18T10:20:27.044996Z",
     "iopub.status.busy": "2022-09-18T10:20:27.044644Z",
     "iopub.status.idle": "2022-09-18T10:20:27.403315Z",
     "shell.execute_reply": "2022-09-18T10:20:27.402204Z"
    },
    "papermill": {
     "duration": 0.393927,
     "end_time": "2022-09-18T10:20:27.405785",
     "exception": false,
     "start_time": "2022-09-18T10:20:27.011858",
     "status": "completed"
    },
    "tags": []
   },
   "outputs": [
    {
     "data": {
      "image/png": "[encoded data removed]",
      "text/plain": [
       "<Figure size 720x576 with 2 Axes>"
      ]
     },
     "metadata": {},
     "output_type": "display_data"
    }
   ],
   "source": [
    "plt.figure(figsize = (10, 8))\n",
    "corr = data.corr(method='spearman')\n",
    "mask = np.triu(np.ones_like(corr, dtype=bool))\n",
    "cormat = sns.heatmap(corr, mask=mask, annot=True, cmap='YlGnBu', linewidths=1, fmt=\".2f\")\n",
    "cormat.set_title('Correlation Matrix')\n",
    "plt.show()"
   ]
  },
  {
   "cell_type": "markdown",
   "id": "043d1bab",
   "metadata": {
    "papermill": {
     "duration": 0.032074,
     "end_time": "2022-09-18T10:20:27.470198",
     "exception": false,
     "start_time": "2022-09-18T10:20:27.438124",
     "status": "completed"
    },
    "tags": []
   },
   "source": [
    "## Feature Engineering "
   ]
  },
  {
   "cell_type": "code",
   "execution_count": 38,
   "id": "0544c275",
   "metadata": {
    "execution": {
     "iopub.execute_input": "2022-09-18T10:20:27.535471Z",
     "iopub.status.busy": "2022-09-18T10:20:27.535019Z",
     "iopub.status.idle": "2022-09-18T10:20:27.548912Z",
     "shell.execute_reply": "2022-09-18T10:20:27.547761Z"
    },
    "papermill": {
     "duration": 0.048754,
     "end_time": "2022-09-18T10:20:27.551158",
     "exception": false,
     "start_time": "2022-09-18T10:20:27.502404",
     "status": "completed"
    },
    "tags": []
   },
   "outputs": [
    {
     "data": {
      "text/html": [
       "<div>\n",
       "<style scoped>\n",
       "    .dataframe tbody tr th:only-of-type {\n",
       "        vertical-align: middle;\n",
       "    }\n",
       "\n",
       "    .dataframe tbody tr th {\n",
       "        vertical-align: top;\n",
       "    }\n",
       "\n",
       "    .dataframe thead th {\n",
       "        text-align: right;\n",
       "    }\n",
       "</style>\n",
       "<table border=\"1\" class=\"dataframe\">\n",
       "  <thead>\n",
       "    <tr style=\"text-align: right;\">\n",
       "      <th></th>\n",
       "      <th>carat</th>\n",
       "      <th>cut</th>\n",
       "      <th>color</th>\n",
       "      <th>clarity</th>\n",
       "      <th>depth</th>\n",
       "      <th>table</th>\n",
       "      <th>x</th>\n",
       "      <th>y</th>\n",
       "      <th>z</th>\n",
       "      <th>price</th>\n",
       "    </tr>\n",
       "  </thead>\n",
       "  <tbody>\n",
       "    <tr>\n",
       "      <th>0</th>\n",
       "      <td>0.30</td>\n",
       "      <td>Ideal</td>\n",
       "      <td>E</td>\n",
       "      <td>SI1</td>\n",
       "      <td>62.10</td>\n",
       "      <td>58.00</td>\n",
       "      <td>4.27</td>\n",
       "      <td>4.29</td>\n",
       "      <td>2.66</td>\n",
       "      <td>499</td>\n",
       "    </tr>\n",
       "    <tr>\n",
       "      <th>1</th>\n",
       "      <td>0.33</td>\n",
       "      <td>Premium</td>\n",
       "      <td>G</td>\n",
       "      <td>IF</td>\n",
       "      <td>60.80</td>\n",
       "      <td>58.00</td>\n",
       "      <td>4.42</td>\n",
       "      <td>4.46</td>\n",
       "      <td>2.70</td>\n",
       "      <td>984</td>\n",
       "    </tr>\n",
       "    <tr>\n",
       "      <th>2</th>\n",
       "      <td>0.90</td>\n",
       "      <td>Very Good</td>\n",
       "      <td>E</td>\n",
       "      <td>VVS2</td>\n",
       "      <td>62.20</td>\n",
       "      <td>60.00</td>\n",
       "      <td>6.04</td>\n",
       "      <td>6.12</td>\n",
       "      <td>3.78</td>\n",
       "      <td>6289</td>\n",
       "    </tr>\n",
       "    <tr>\n",
       "      <th>3</th>\n",
       "      <td>0.42</td>\n",
       "      <td>Ideal</td>\n",
       "      <td>F</td>\n",
       "      <td>VS1</td>\n",
       "      <td>61.60</td>\n",
       "      <td>56.00</td>\n",
       "      <td>4.82</td>\n",
       "      <td>4.80</td>\n",
       "      <td>2.96</td>\n",
       "      <td>1082</td>\n",
       "    </tr>\n",
       "    <tr>\n",
       "      <th>4</th>\n",
       "      <td>0.31</td>\n",
       "      <td>Ideal</td>\n",
       "      <td>F</td>\n",
       "      <td>VVS1</td>\n",
       "      <td>60.40</td>\n",
       "      <td>59.00</td>\n",
       "      <td>4.35</td>\n",
       "      <td>4.43</td>\n",
       "      <td>2.65</td>\n",
       "      <td>779</td>\n",
       "    </tr>\n",
       "  </tbody>\n",
       "</table>\n",
       "</div>"
      ],
      "text/plain": [
       "   carat        cut color clarity  depth  table    x    y    z  price\n",
       "0   0.30      Ideal     E     SI1  62.10  58.00 4.27 4.29 2.66    499\n",
       "1   0.33    Premium     G      IF  60.80  58.00 4.42 4.46 2.70    984\n",
       "2   0.90  Very Good     E    VVS2  62.20  60.00 6.04 6.12 3.78   6289\n",
       "3   0.42      Ideal     F     VS1  61.60  56.00 4.82 4.80 2.96   1082\n",
       "4   0.31      Ideal     F    VVS1  60.40  59.00 4.35 4.43 2.65    779"
      ]
     },
     "execution_count": 38,
     "metadata": {},
     "output_type": "execute_result"
    }
   ],
   "source": [
    "data.head()"
   ]
  },
  {
   "cell_type": "code",
   "execution_count": 39,
   "id": "bf7f8627",
   "metadata": {
    "execution": {
     "iopub.execute_input": "2022-09-18T10:20:27.617974Z",
     "iopub.status.busy": "2022-09-18T10:20:27.617598Z",
     "iopub.status.idle": "2022-09-18T10:20:27.623537Z",
     "shell.execute_reply": "2022-09-18T10:20:27.622243Z"
    },
    "papermill": {
     "duration": 0.042817,
     "end_time": "2022-09-18T10:20:27.626606",
     "exception": false,
     "start_time": "2022-09-18T10:20:27.583789",
     "status": "completed"
    },
    "tags": []
   },
   "outputs": [
    {
     "name": "stdout",
     "output_type": "stream",
     "text": [
      "['cut', 'color', 'clarity']\n"
     ]
    }
   ],
   "source": [
    "cat_feature=[feature for feature in data.columns if data[feature].dtype=='O']\n",
    "print(cat_feature)"
   ]
  },
  {
   "cell_type": "code",
   "execution_count": 40,
   "id": "066db828",
   "metadata": {
    "execution": {
     "iopub.execute_input": "2022-09-18T10:20:27.697213Z",
     "iopub.status.busy": "2022-09-18T10:20:27.696775Z",
     "iopub.status.idle": "2022-09-18T10:20:27.705652Z",
     "shell.execute_reply": "2022-09-18T10:20:27.704481Z"
    },
    "papermill": {
     "duration": 0.046527,
     "end_time": "2022-09-18T10:20:27.707930",
     "exception": false,
     "start_time": "2022-09-18T10:20:27.661403",
     "status": "completed"
    },
    "tags": []
   },
   "outputs": [
    {
     "data": {
      "text/plain": [
       "array(['Ideal', 'Premium', 'Very Good', 'Good', 'Fair'], dtype=object)"
      ]
     },
     "execution_count": 40,
     "metadata": {},
     "output_type": "execute_result"
    }
   ],
   "source": [
    "data['cut'].unique()"
   ]
  },
  {
   "cell_type": "code",
   "execution_count": 41,
   "id": "6373f38e",
   "metadata": {
    "execution": {
     "iopub.execute_input": "2022-09-18T10:20:27.775896Z",
     "iopub.status.busy": "2022-09-18T10:20:27.775453Z",
     "iopub.status.idle": "2022-09-18T10:20:27.785198Z",
     "shell.execute_reply": "2022-09-18T10:20:27.783956Z"
    },
    "papermill": {
     "duration": 0.046204,
     "end_time": "2022-09-18T10:20:27.787640",
     "exception": false,
     "start_time": "2022-09-18T10:20:27.741436",
     "status": "completed"
    },
    "tags": []
   },
   "outputs": [],
   "source": [
    "data['cut']=data['cut'].map({\"Ideal\":0,'Premium':1,\"Very Good\":2,'Good':3,\"Fair\":4})"
   ]
  },
  {
   "cell_type": "code",
   "execution_count": 42,
   "id": "a1387cdb",
   "metadata": {
    "execution": {
     "iopub.execute_input": "2022-09-18T10:20:27.854319Z",
     "iopub.status.busy": "2022-09-18T10:20:27.853883Z",
     "iopub.status.idle": "2022-09-18T10:20:27.864139Z",
     "shell.execute_reply": "2022-09-18T10:20:27.862767Z"
    },
    "papermill": {
     "duration": 0.046456,
     "end_time": "2022-09-18T10:20:27.866536",
     "exception": false,
     "start_time": "2022-09-18T10:20:27.820080",
     "status": "completed"
    },
    "tags": []
   },
   "outputs": [
    {
     "name": "stdout",
     "output_type": "stream",
     "text": [
      "['E' 'G' 'F' 'D' 'H' 'J' 'I']\n",
      "['SI1' 'IF' 'VVS2' 'VS1' 'VVS1' 'VS2' 'SI2' 'I1']\n"
     ]
    }
   ],
   "source": [
    "print(data['color'].unique())\n",
    "print(data['clarity'].unique())"
   ]
  },
  {
   "cell_type": "code",
   "execution_count": 43,
   "id": "91a51956",
   "metadata": {
    "execution": {
     "iopub.execute_input": "2022-09-18T10:20:27.934053Z",
     "iopub.status.busy": "2022-09-18T10:20:27.932996Z",
     "iopub.status.idle": "2022-09-18T10:20:28.060993Z",
     "shell.execute_reply": "2022-09-18T10:20:28.059986Z"
    },
    "papermill": {
     "duration": 0.164507,
     "end_time": "2022-09-18T10:20:28.063535",
     "exception": false,
     "start_time": "2022-09-18T10:20:27.899028",
     "status": "completed"
    },
    "tags": []
   },
   "outputs": [],
   "source": [
    "from sklearn.preprocessing import LabelEncoder\n",
    "labelencoder=LabelEncoder()"
   ]
  },
  {
   "cell_type": "code",
   "execution_count": 44,
   "id": "e4ab9470",
   "metadata": {
    "execution": {
     "iopub.execute_input": "2022-09-18T10:20:28.131836Z",
     "iopub.status.busy": "2022-09-18T10:20:28.131447Z",
     "iopub.status.idle": "2022-09-18T10:20:28.149400Z",
     "shell.execute_reply": "2022-09-18T10:20:28.148300Z"
    },
    "papermill": {
     "duration": 0.05467,
     "end_time": "2022-09-18T10:20:28.151819",
     "exception": false,
     "start_time": "2022-09-18T10:20:28.097149",
     "status": "completed"
    },
    "tags": []
   },
   "outputs": [],
   "source": [
    "for feature in ['color','clarity']:\n",
    "    data[feature]=labelencoder.fit_transform(data[feature])"
   ]
  },
  {
   "cell_type": "code",
   "execution_count": 45,
   "id": "06c5f60b",
   "metadata": {
    "execution": {
     "iopub.execute_input": "2022-09-18T10:20:28.217915Z",
     "iopub.status.busy": "2022-09-18T10:20:28.217563Z",
     "iopub.status.idle": "2022-09-18T10:20:28.233396Z",
     "shell.execute_reply": "2022-09-18T10:20:28.232543Z"
    },
    "papermill": {
     "duration": 0.051409,
     "end_time": "2022-09-18T10:20:28.235286",
     "exception": false,
     "start_time": "2022-09-18T10:20:28.183877",
     "status": "completed"
    },
    "tags": []
   },
   "outputs": [
    {
     "data": {
      "text/html": [
       "<div>\n",
       "<style scoped>\n",
       "    .dataframe tbody tr th:only-of-type {\n",
       "        vertical-align: middle;\n",
       "    }\n",
       "\n",
       "    .dataframe tbody tr th {\n",
       "        vertical-align: top;\n",
       "    }\n",
       "\n",
       "    .dataframe thead th {\n",
       "        text-align: right;\n",
       "    }\n",
       "</style>\n",
       "<table border=\"1\" class=\"dataframe\">\n",
       "  <thead>\n",
       "    <tr style=\"text-align: right;\">\n",
       "      <th></th>\n",
       "      <th>carat</th>\n",
       "      <th>cut</th>\n",
       "      <th>color</th>\n",
       "      <th>clarity</th>\n",
       "      <th>depth</th>\n",
       "      <th>table</th>\n",
       "      <th>x</th>\n",
       "      <th>y</th>\n",
       "      <th>z</th>\n",
       "      <th>price</th>\n",
       "    </tr>\n",
       "  </thead>\n",
       "  <tbody>\n",
       "    <tr>\n",
       "      <th>0</th>\n",
       "      <td>0.30</td>\n",
       "      <td>0</td>\n",
       "      <td>1</td>\n",
       "      <td>2</td>\n",
       "      <td>62.10</td>\n",
       "      <td>58.00</td>\n",
       "      <td>4.27</td>\n",
       "      <td>4.29</td>\n",
       "      <td>2.66</td>\n",
       "      <td>499</td>\n",
       "    </tr>\n",
       "    <tr>\n",
       "      <th>1</th>\n",
       "      <td>0.33</td>\n",
       "      <td>1</td>\n",
       "      <td>3</td>\n",
       "      <td>1</td>\n",
       "      <td>60.80</td>\n",
       "      <td>58.00</td>\n",
       "      <td>4.42</td>\n",
       "      <td>4.46</td>\n",
       "      <td>2.70</td>\n",
       "      <td>984</td>\n",
       "    </tr>\n",
       "    <tr>\n",
       "      <th>2</th>\n",
       "      <td>0.90</td>\n",
       "      <td>2</td>\n",
       "      <td>1</td>\n",
       "      <td>7</td>\n",
       "      <td>62.20</td>\n",
       "      <td>60.00</td>\n",
       "      <td>6.04</td>\n",
       "      <td>6.12</td>\n",
       "      <td>3.78</td>\n",
       "      <td>6289</td>\n",
       "    </tr>\n",
       "    <tr>\n",
       "      <th>3</th>\n",
       "      <td>0.42</td>\n",
       "      <td>0</td>\n",
       "      <td>2</td>\n",
       "      <td>4</td>\n",
       "      <td>61.60</td>\n",
       "      <td>56.00</td>\n",
       "      <td>4.82</td>\n",
       "      <td>4.80</td>\n",
       "      <td>2.96</td>\n",
       "      <td>1082</td>\n",
       "    </tr>\n",
       "    <tr>\n",
       "      <th>4</th>\n",
       "      <td>0.31</td>\n",
       "      <td>0</td>\n",
       "      <td>2</td>\n",
       "      <td>6</td>\n",
       "      <td>60.40</td>\n",
       "      <td>59.00</td>\n",
       "      <td>4.35</td>\n",
       "      <td>4.43</td>\n",
       "      <td>2.65</td>\n",
       "      <td>779</td>\n",
       "    </tr>\n",
       "    <tr>\n",
       "      <th>...</th>\n",
       "      <td>...</td>\n",
       "      <td>...</td>\n",
       "      <td>...</td>\n",
       "      <td>...</td>\n",
       "      <td>...</td>\n",
       "      <td>...</td>\n",
       "      <td>...</td>\n",
       "      <td>...</td>\n",
       "      <td>...</td>\n",
       "      <td>...</td>\n",
       "    </tr>\n",
       "    <tr>\n",
       "      <th>26962</th>\n",
       "      <td>1.11</td>\n",
       "      <td>1</td>\n",
       "      <td>3</td>\n",
       "      <td>2</td>\n",
       "      <td>62.30</td>\n",
       "      <td>58.00</td>\n",
       "      <td>6.61</td>\n",
       "      <td>6.52</td>\n",
       "      <td>4.09</td>\n",
       "      <td>5408</td>\n",
       "    </tr>\n",
       "    <tr>\n",
       "      <th>26963</th>\n",
       "      <td>0.33</td>\n",
       "      <td>0</td>\n",
       "      <td>4</td>\n",
       "      <td>1</td>\n",
       "      <td>61.90</td>\n",
       "      <td>55.00</td>\n",
       "      <td>4.44</td>\n",
       "      <td>4.42</td>\n",
       "      <td>2.74</td>\n",
       "      <td>1114</td>\n",
       "    </tr>\n",
       "    <tr>\n",
       "      <th>26964</th>\n",
       "      <td>0.51</td>\n",
       "      <td>1</td>\n",
       "      <td>1</td>\n",
       "      <td>5</td>\n",
       "      <td>61.70</td>\n",
       "      <td>58.00</td>\n",
       "      <td>5.12</td>\n",
       "      <td>5.15</td>\n",
       "      <td>3.17</td>\n",
       "      <td>1656</td>\n",
       "    </tr>\n",
       "    <tr>\n",
       "      <th>26965</th>\n",
       "      <td>0.27</td>\n",
       "      <td>2</td>\n",
       "      <td>2</td>\n",
       "      <td>7</td>\n",
       "      <td>61.80</td>\n",
       "      <td>56.00</td>\n",
       "      <td>4.19</td>\n",
       "      <td>4.20</td>\n",
       "      <td>2.60</td>\n",
       "      <td>682</td>\n",
       "    </tr>\n",
       "    <tr>\n",
       "      <th>26966</th>\n",
       "      <td>1.25</td>\n",
       "      <td>1</td>\n",
       "      <td>6</td>\n",
       "      <td>2</td>\n",
       "      <td>62.00</td>\n",
       "      <td>58.00</td>\n",
       "      <td>6.90</td>\n",
       "      <td>6.88</td>\n",
       "      <td>4.27</td>\n",
       "      <td>5166</td>\n",
       "    </tr>\n",
       "  </tbody>\n",
       "</table>\n",
       "<p>23615 rows × 10 columns</p>\n",
       "</div>"
      ],
      "text/plain": [
       "       carat  cut  color  clarity  depth  table    x    y    z  price\n",
       "0       0.30    0      1        2  62.10  58.00 4.27 4.29 2.66    499\n",
       "1       0.33    1      3        1  60.80  58.00 4.42 4.46 2.70    984\n",
       "2       0.90    2      1        7  62.20  60.00 6.04 6.12 3.78   6289\n",
       "3       0.42    0      2        4  61.60  56.00 4.82 4.80 2.96   1082\n",
       "4       0.31    0      2        6  60.40  59.00 4.35 4.43 2.65    779\n",
       "...      ...  ...    ...      ...    ...    ...  ...  ...  ...    ...\n",
       "26962   1.11    1      3        2  62.30  58.00 6.61 6.52 4.09   5408\n",
       "26963   0.33    0      4        1  61.90  55.00 4.44 4.42 2.74   1114\n",
       "26964   0.51    1      1        5  61.70  58.00 5.12 5.15 3.17   1656\n",
       "26965   0.27    2      2        7  61.80  56.00 4.19 4.20 2.60    682\n",
       "26966   1.25    1      6        2  62.00  58.00 6.90 6.88 4.27   5166\n",
       "\n",
       "[23615 rows x 10 columns]"
      ]
     },
     "execution_count": 45,
     "metadata": {},
     "output_type": "execute_result"
    }
   ],
   "source": [
    "data"
   ]
  },
  {
   "cell_type": "code",
   "execution_count": 46,
   "id": "e6d41a03",
   "metadata": {
    "execution": {
     "iopub.execute_input": "2022-09-18T10:20:28.304297Z",
     "iopub.status.busy": "2022-09-18T10:20:28.303865Z",
     "iopub.status.idle": "2022-09-18T10:20:28.318256Z",
     "shell.execute_reply": "2022-09-18T10:20:28.317356Z"
    },
    "papermill": {
     "duration": 0.051734,
     "end_time": "2022-09-18T10:20:28.320721",
     "exception": false,
     "start_time": "2022-09-18T10:20:28.268987",
     "status": "completed"
    },
    "tags": []
   },
   "outputs": [],
   "source": [
    "from sklearn.preprocessing import StandardScaler\n",
    "scaler=StandardScaler()\n",
    "df_scaled=scaler.fit_transform(data)"
   ]
  },
  {
   "cell_type": "code",
   "execution_count": 47,
   "id": "06679abf",
   "metadata": {
    "execution": {
     "iopub.execute_input": "2022-09-18T10:20:28.392992Z",
     "iopub.status.busy": "2022-09-18T10:20:28.391813Z",
     "iopub.status.idle": "2022-09-18T10:20:28.399155Z",
     "shell.execute_reply": "2022-09-18T10:20:28.398276Z"
    },
    "papermill": {
     "duration": 0.045881,
     "end_time": "2022-09-18T10:20:28.401279",
     "exception": false,
     "start_time": "2022-09-18T10:20:28.355398",
     "status": "completed"
    },
    "tags": []
   },
   "outputs": [
    {
     "data": {
      "text/plain": [
       "array([[-1.08841826, -0.95954952, -0.91911564, ..., -1.28263255,\n",
       "        -1.25502916, -0.94085954],\n",
       "       [-1.00869416,  0.02600032,  0.26565051, ..., -1.10957732,\n",
       "        -1.18967358, -0.76637331],\n",
       "       [ 0.50606377,  1.01155016, -0.91911564, ...,  0.58025606,\n",
       "         0.57492707,  1.14218222],\n",
       "       ...,\n",
       "       [-0.53034955,  0.02600032, -0.91911564, ..., -0.4071767 ,\n",
       "        -0.42174552, -0.52461095],\n",
       "       [-1.16814236,  1.01155016, -0.32673256, ..., -1.37425002,\n",
       "        -1.35306253, -0.87502247],\n",
       "       [ 1.43617829,  0.02600032,  2.04279972, ...,  1.35391472,\n",
       "         1.37553292,  0.73816566]])"
      ]
     },
     "execution_count": 47,
     "metadata": {},
     "output_type": "execute_result"
    }
   ],
   "source": [
    "df_scaled"
   ]
  },
  {
   "cell_type": "code",
   "execution_count": 48,
   "id": "397b0d85",
   "metadata": {
    "execution": {
     "iopub.execute_input": "2022-09-18T10:20:28.473343Z",
     "iopub.status.busy": "2022-09-18T10:20:28.472239Z",
     "iopub.status.idle": "2022-09-18T10:20:28.477813Z",
     "shell.execute_reply": "2022-09-18T10:20:28.477059Z"
    },
    "papermill": {
     "duration": 0.043109,
     "end_time": "2022-09-18T10:20:28.479935",
     "exception": false,
     "start_time": "2022-09-18T10:20:28.436826",
     "status": "completed"
    },
    "tags": []
   },
   "outputs": [],
   "source": [
    "x=data.iloc[:,:-1]"
   ]
  },
  {
   "cell_type": "code",
   "execution_count": 49,
   "id": "bc1f9599",
   "metadata": {
    "execution": {
     "iopub.execute_input": "2022-09-18T10:20:28.549601Z",
     "iopub.status.busy": "2022-09-18T10:20:28.548833Z",
     "iopub.status.idle": "2022-09-18T10:20:28.564997Z",
     "shell.execute_reply": "2022-09-18T10:20:28.563918Z"
    },
    "papermill": {
     "duration": 0.053956,
     "end_time": "2022-09-18T10:20:28.567446",
     "exception": false,
     "start_time": "2022-09-18T10:20:28.513490",
     "status": "completed"
    },
    "tags": []
   },
   "outputs": [
    {
     "data": {
      "text/html": [
       "<div>\n",
       "<style scoped>\n",
       "    .dataframe tbody tr th:only-of-type {\n",
       "        vertical-align: middle;\n",
       "    }\n",
       "\n",
       "    .dataframe tbody tr th {\n",
       "        vertical-align: top;\n",
       "    }\n",
       "\n",
       "    .dataframe thead th {\n",
       "        text-align: right;\n",
       "    }\n",
       "</style>\n",
       "<table border=\"1\" class=\"dataframe\">\n",
       "  <thead>\n",
       "    <tr style=\"text-align: right;\">\n",
       "      <th></th>\n",
       "      <th>carat</th>\n",
       "      <th>cut</th>\n",
       "      <th>color</th>\n",
       "      <th>clarity</th>\n",
       "      <th>depth</th>\n",
       "      <th>table</th>\n",
       "      <th>x</th>\n",
       "      <th>y</th>\n",
       "      <th>z</th>\n",
       "    </tr>\n",
       "  </thead>\n",
       "  <tbody>\n",
       "    <tr>\n",
       "      <th>0</th>\n",
       "      <td>0.30</td>\n",
       "      <td>0</td>\n",
       "      <td>1</td>\n",
       "      <td>2</td>\n",
       "      <td>62.10</td>\n",
       "      <td>58.00</td>\n",
       "      <td>4.27</td>\n",
       "      <td>4.29</td>\n",
       "      <td>2.66</td>\n",
       "    </tr>\n",
       "    <tr>\n",
       "      <th>1</th>\n",
       "      <td>0.33</td>\n",
       "      <td>1</td>\n",
       "      <td>3</td>\n",
       "      <td>1</td>\n",
       "      <td>60.80</td>\n",
       "      <td>58.00</td>\n",
       "      <td>4.42</td>\n",
       "      <td>4.46</td>\n",
       "      <td>2.70</td>\n",
       "    </tr>\n",
       "    <tr>\n",
       "      <th>2</th>\n",
       "      <td>0.90</td>\n",
       "      <td>2</td>\n",
       "      <td>1</td>\n",
       "      <td>7</td>\n",
       "      <td>62.20</td>\n",
       "      <td>60.00</td>\n",
       "      <td>6.04</td>\n",
       "      <td>6.12</td>\n",
       "      <td>3.78</td>\n",
       "    </tr>\n",
       "    <tr>\n",
       "      <th>3</th>\n",
       "      <td>0.42</td>\n",
       "      <td>0</td>\n",
       "      <td>2</td>\n",
       "      <td>4</td>\n",
       "      <td>61.60</td>\n",
       "      <td>56.00</td>\n",
       "      <td>4.82</td>\n",
       "      <td>4.80</td>\n",
       "      <td>2.96</td>\n",
       "    </tr>\n",
       "    <tr>\n",
       "      <th>4</th>\n",
       "      <td>0.31</td>\n",
       "      <td>0</td>\n",
       "      <td>2</td>\n",
       "      <td>6</td>\n",
       "      <td>60.40</td>\n",
       "      <td>59.00</td>\n",
       "      <td>4.35</td>\n",
       "      <td>4.43</td>\n",
       "      <td>2.65</td>\n",
       "    </tr>\n",
       "    <tr>\n",
       "      <th>...</th>\n",
       "      <td>...</td>\n",
       "      <td>...</td>\n",
       "      <td>...</td>\n",
       "      <td>...</td>\n",
       "      <td>...</td>\n",
       "      <td>...</td>\n",
       "      <td>...</td>\n",
       "      <td>...</td>\n",
       "      <td>...</td>\n",
       "    </tr>\n",
       "    <tr>\n",
       "      <th>26962</th>\n",
       "      <td>1.11</td>\n",
       "      <td>1</td>\n",
       "      <td>3</td>\n",
       "      <td>2</td>\n",
       "      <td>62.30</td>\n",
       "      <td>58.00</td>\n",
       "      <td>6.61</td>\n",
       "      <td>6.52</td>\n",
       "      <td>4.09</td>\n",
       "    </tr>\n",
       "    <tr>\n",
       "      <th>26963</th>\n",
       "      <td>0.33</td>\n",
       "      <td>0</td>\n",
       "      <td>4</td>\n",
       "      <td>1</td>\n",
       "      <td>61.90</td>\n",
       "      <td>55.00</td>\n",
       "      <td>4.44</td>\n",
       "      <td>4.42</td>\n",
       "      <td>2.74</td>\n",
       "    </tr>\n",
       "    <tr>\n",
       "      <th>26964</th>\n",
       "      <td>0.51</td>\n",
       "      <td>1</td>\n",
       "      <td>1</td>\n",
       "      <td>5</td>\n",
       "      <td>61.70</td>\n",
       "      <td>58.00</td>\n",
       "      <td>5.12</td>\n",
       "      <td>5.15</td>\n",
       "      <td>3.17</td>\n",
       "    </tr>\n",
       "    <tr>\n",
       "      <th>26965</th>\n",
       "      <td>0.27</td>\n",
       "      <td>2</td>\n",
       "      <td>2</td>\n",
       "      <td>7</td>\n",
       "      <td>61.80</td>\n",
       "      <td>56.00</td>\n",
       "      <td>4.19</td>\n",
       "      <td>4.20</td>\n",
       "      <td>2.60</td>\n",
       "    </tr>\n",
       "    <tr>\n",
       "      <th>26966</th>\n",
       "      <td>1.25</td>\n",
       "      <td>1</td>\n",
       "      <td>6</td>\n",
       "      <td>2</td>\n",
       "      <td>62.00</td>\n",
       "      <td>58.00</td>\n",
       "      <td>6.90</td>\n",
       "      <td>6.88</td>\n",
       "      <td>4.27</td>\n",
       "    </tr>\n",
       "  </tbody>\n",
       "</table>\n",
       "<p>23615 rows × 9 columns</p>\n",
       "</div>"
      ],
      "text/plain": [
       "       carat  cut  color  clarity  depth  table    x    y    z\n",
       "0       0.30    0      1        2  62.10  58.00 4.27 4.29 2.66\n",
       "1       0.33    1      3        1  60.80  58.00 4.42 4.46 2.70\n",
       "2       0.90    2      1        7  62.20  60.00 6.04 6.12 3.78\n",
       "3       0.42    0      2        4  61.60  56.00 4.82 4.80 2.96\n",
       "4       0.31    0      2        6  60.40  59.00 4.35 4.43 2.65\n",
       "...      ...  ...    ...      ...    ...    ...  ...  ...  ...\n",
       "26962   1.11    1      3        2  62.30  58.00 6.61 6.52 4.09\n",
       "26963   0.33    0      4        1  61.90  55.00 4.44 4.42 2.74\n",
       "26964   0.51    1      1        5  61.70  58.00 5.12 5.15 3.17\n",
       "26965   0.27    2      2        7  61.80  56.00 4.19 4.20 2.60\n",
       "26966   1.25    1      6        2  62.00  58.00 6.90 6.88 4.27\n",
       "\n",
       "[23615 rows x 9 columns]"
      ]
     },
     "execution_count": 49,
     "metadata": {},
     "output_type": "execute_result"
    }
   ],
   "source": [
    "x"
   ]
  },
  {
   "cell_type": "code",
   "execution_count": 50,
   "id": "e21e6555",
   "metadata": {
    "execution": {
     "iopub.execute_input": "2022-09-18T10:20:28.638775Z",
     "iopub.status.busy": "2022-09-18T10:20:28.638343Z",
     "iopub.status.idle": "2022-09-18T10:20:28.643682Z",
     "shell.execute_reply": "2022-09-18T10:20:28.642566Z"
    },
    "papermill": {
     "duration": 0.043997,
     "end_time": "2022-09-18T10:20:28.646002",
     "exception": false,
     "start_time": "2022-09-18T10:20:28.602005",
     "status": "completed"
    },
    "tags": []
   },
   "outputs": [],
   "source": [
    "y=data.iloc[:,-1:]"
   ]
  },
  {
   "cell_type": "code",
   "execution_count": 51,
   "id": "9f83b696",
   "metadata": {
    "execution": {
     "iopub.execute_input": "2022-09-18T10:20:28.715974Z",
     "iopub.status.busy": "2022-09-18T10:20:28.715235Z",
     "iopub.status.idle": "2022-09-18T10:20:28.725382Z",
     "shell.execute_reply": "2022-09-18T10:20:28.724506Z"
    },
    "papermill": {
     "duration": 0.047473,
     "end_time": "2022-09-18T10:20:28.727453",
     "exception": false,
     "start_time": "2022-09-18T10:20:28.679980",
     "status": "completed"
    },
    "tags": []
   },
   "outputs": [
    {
     "data": {
      "text/html": [
       "<div>\n",
       "<style scoped>\n",
       "    .dataframe tbody tr th:only-of-type {\n",
       "        vertical-align: middle;\n",
       "    }\n",
       "\n",
       "    .dataframe tbody tr th {\n",
       "        vertical-align: top;\n",
       "    }\n",
       "\n",
       "    .dataframe thead th {\n",
       "        text-align: right;\n",
       "    }\n",
       "</style>\n",
       "<table border=\"1\" class=\"dataframe\">\n",
       "  <thead>\n",
       "    <tr style=\"text-align: right;\">\n",
       "      <th></th>\n",
       "      <th>price</th>\n",
       "    </tr>\n",
       "  </thead>\n",
       "  <tbody>\n",
       "    <tr>\n",
       "      <th>0</th>\n",
       "      <td>499</td>\n",
       "    </tr>\n",
       "    <tr>\n",
       "      <th>1</th>\n",
       "      <td>984</td>\n",
       "    </tr>\n",
       "    <tr>\n",
       "      <th>2</th>\n",
       "      <td>6289</td>\n",
       "    </tr>\n",
       "    <tr>\n",
       "      <th>3</th>\n",
       "      <td>1082</td>\n",
       "    </tr>\n",
       "    <tr>\n",
       "      <th>4</th>\n",
       "      <td>779</td>\n",
       "    </tr>\n",
       "    <tr>\n",
       "      <th>...</th>\n",
       "      <td>...</td>\n",
       "    </tr>\n",
       "    <tr>\n",
       "      <th>26962</th>\n",
       "      <td>5408</td>\n",
       "    </tr>\n",
       "    <tr>\n",
       "      <th>26963</th>\n",
       "      <td>1114</td>\n",
       "    </tr>\n",
       "    <tr>\n",
       "      <th>26964</th>\n",
       "      <td>1656</td>\n",
       "    </tr>\n",
       "    <tr>\n",
       "      <th>26965</th>\n",
       "      <td>682</td>\n",
       "    </tr>\n",
       "    <tr>\n",
       "      <th>26966</th>\n",
       "      <td>5166</td>\n",
       "    </tr>\n",
       "  </tbody>\n",
       "</table>\n",
       "<p>23615 rows × 1 columns</p>\n",
       "</div>"
      ],
      "text/plain": [
       "       price\n",
       "0        499\n",
       "1        984\n",
       "2       6289\n",
       "3       1082\n",
       "4        779\n",
       "...      ...\n",
       "26962   5408\n",
       "26963   1114\n",
       "26964   1656\n",
       "26965    682\n",
       "26966   5166\n",
       "\n",
       "[23615 rows x 1 columns]"
      ]
     },
     "execution_count": 51,
     "metadata": {},
     "output_type": "execute_result"
    }
   ],
   "source": [
    "y"
   ]
  },
  {
   "cell_type": "code",
   "execution_count": 52,
   "id": "1ad4dcbb",
   "metadata": {
    "execution": {
     "iopub.execute_input": "2022-09-18T10:20:28.797782Z",
     "iopub.status.busy": "2022-09-18T10:20:28.797167Z",
     "iopub.status.idle": "2022-09-18T10:20:28.857338Z",
     "shell.execute_reply": "2022-09-18T10:20:28.856436Z"
    },
    "papermill": {
     "duration": 0.098213,
     "end_time": "2022-09-18T10:20:28.860012",
     "exception": false,
     "start_time": "2022-09-18T10:20:28.761799",
     "status": "completed"
    },
    "tags": []
   },
   "outputs": [],
   "source": [
    "from sklearn.model_selection import train_test_split\n",
    "x_train,x_test,y_train,y_test=train_test_split(x,y,test_size=0.3,random_state=0)"
   ]
  },
  {
   "cell_type": "markdown",
   "id": "98581480",
   "metadata": {
    "papermill": {
     "duration": 0.034918,
     "end_time": "2022-09-18T10:20:28.929400",
     "exception": false,
     "start_time": "2022-09-18T10:20:28.894482",
     "status": "completed"
    },
    "tags": []
   },
   "source": [
    "## Creating Model With Linear Regression - 87.66%"
   ]
  },
  {
   "cell_type": "code",
   "execution_count": 53,
   "id": "5eac5c2f",
   "metadata": {
    "execution": {
     "iopub.execute_input": "2022-09-18T10:20:29.000474Z",
     "iopub.status.busy": "2022-09-18T10:20:29.000056Z",
     "iopub.status.idle": "2022-09-18T10:20:29.073430Z",
     "shell.execute_reply": "2022-09-18T10:20:29.072473Z"
    },
    "papermill": {
     "duration": 0.111864,
     "end_time": "2022-09-18T10:20:29.075904",
     "exception": false,
     "start_time": "2022-09-18T10:20:28.964040",
     "status": "completed"
    },
    "tags": []
   },
   "outputs": [],
   "source": [
    "from sklearn.linear_model import LinearRegression"
   ]
  },
  {
   "cell_type": "code",
   "execution_count": 54,
   "id": "75d17f24",
   "metadata": {
    "execution": {
     "iopub.execute_input": "2022-09-18T10:20:29.147025Z",
     "iopub.status.busy": "2022-09-18T10:20:29.146618Z",
     "iopub.status.idle": "2022-09-18T10:20:29.175836Z",
     "shell.execute_reply": "2022-09-18T10:20:29.174220Z"
    },
    "papermill": {
     "duration": 0.067532,
     "end_time": "2022-09-18T10:20:29.178496",
     "exception": false,
     "start_time": "2022-09-18T10:20:29.110964",
     "status": "completed"
    },
    "tags": []
   },
   "outputs": [
    {
     "data": {
      "text/plain": [
       "LinearRegression()"
      ]
     },
     "execution_count": 54,
     "metadata": {},
     "output_type": "execute_result"
    }
   ],
   "source": [
    "regressor=LinearRegression()\n",
    "regressor.fit(x_train,y_train)"
   ]
  },
  {
   "cell_type": "code",
   "execution_count": 55,
   "id": "37644847",
   "metadata": {
    "execution": {
     "iopub.execute_input": "2022-09-18T10:20:29.250045Z",
     "iopub.status.busy": "2022-09-18T10:20:29.249275Z",
     "iopub.status.idle": "2022-09-18T10:20:29.265956Z",
     "shell.execute_reply": "2022-09-18T10:20:29.264479Z"
    },
    "papermill": {
     "duration": 0.05716,
     "end_time": "2022-09-18T10:20:29.269864",
     "exception": false,
     "start_time": "2022-09-18T10:20:29.212704",
     "status": "completed"
    },
    "tags": []
   },
   "outputs": [],
   "source": [
    "reg_pred=regressor.predict(x_test)"
   ]
  },
  {
   "cell_type": "code",
   "execution_count": 56,
   "id": "d6b73597",
   "metadata": {
    "execution": {
     "iopub.execute_input": "2022-09-18T10:20:29.463501Z",
     "iopub.status.busy": "2022-09-18T10:20:29.463053Z",
     "iopub.status.idle": "2022-09-18T10:20:29.470334Z",
     "shell.execute_reply": "2022-09-18T10:20:29.469260Z"
    },
    "papermill": {
     "duration": 0.04513,
     "end_time": "2022-09-18T10:20:29.472631",
     "exception": false,
     "start_time": "2022-09-18T10:20:29.427501",
     "status": "completed"
    },
    "tags": []
   },
   "outputs": [
    {
     "data": {
      "text/plain": [
       "array([[3217.88335821],\n",
       "       [1584.91700228],\n",
       "       [1131.72276052],\n",
       "       ...,\n",
       "       [2620.10933875],\n",
       "       [5129.42104571],\n",
       "       [5375.1946228 ]])"
      ]
     },
     "execution_count": 56,
     "metadata": {},
     "output_type": "execute_result"
    }
   ],
   "source": [
    "reg_pred"
   ]
  },
  {
   "cell_type": "code",
   "execution_count": 57,
   "id": "0254e92e",
   "metadata": {
    "execution": {
     "iopub.execute_input": "2022-09-18T10:20:29.543883Z",
     "iopub.status.busy": "2022-09-18T10:20:29.543425Z",
     "iopub.status.idle": "2022-09-18T10:20:29.966046Z",
     "shell.execute_reply": "2022-09-18T10:20:29.964864Z"
    },
    "papermill": {
     "duration": 0.460988,
     "end_time": "2022-09-18T10:20:29.968476",
     "exception": false,
     "start_time": "2022-09-18T10:20:29.507488",
     "status": "completed"
    },
    "tags": []
   },
   "outputs": [
    {
     "data": {
      "text/plain": [
       "<AxesSubplot:ylabel='Density'>"
      ]
     },
     "execution_count": 57,
     "metadata": {},
     "output_type": "execute_result"
    },
    {
     "data": {
      "image/png": "[encoded data removed]",
      "text/plain": [
       "<Figure size 432x288 with 1 Axes>"
      ]
     },
     "metadata": {},
     "output_type": "display_data"
    }
   ],
   "source": [
    "sns.distplot(reg_pred-y_test)"
   ]
  },
  {
   "cell_type": "code",
   "execution_count": 58,
   "id": "b81b42e1",
   "metadata": {
    "execution": {
     "iopub.execute_input": "2022-09-18T10:20:30.040305Z",
     "iopub.status.busy": "2022-09-18T10:20:30.039109Z",
     "iopub.status.idle": "2022-09-18T10:20:30.043834Z",
     "shell.execute_reply": "2022-09-18T10:20:30.043040Z"
    },
    "papermill": {
     "duration": 0.042546,
     "end_time": "2022-09-18T10:20:30.045872",
     "exception": false,
     "start_time": "2022-09-18T10:20:30.003326",
     "status": "completed"
    },
    "tags": []
   },
   "outputs": [],
   "source": [
    "from sklearn.metrics import  r2_score "
   ]
  },
  {
   "cell_type": "code",
   "execution_count": 59,
   "id": "7a865074",
   "metadata": {
    "execution": {
     "iopub.execute_input": "2022-09-18T10:20:30.118690Z",
     "iopub.status.busy": "2022-09-18T10:20:30.117959Z",
     "iopub.status.idle": "2022-09-18T10:20:30.124460Z",
     "shell.execute_reply": "2022-09-18T10:20:30.123575Z"
    },
    "papermill": {
     "duration": 0.046263,
     "end_time": "2022-09-18T10:20:30.126829",
     "exception": false,
     "start_time": "2022-09-18T10:20:30.080566",
     "status": "completed"
    },
    "tags": []
   },
   "outputs": [],
   "source": [
    "score=r2_score(reg_pred,y_test)"
   ]
  },
  {
   "cell_type": "code",
   "execution_count": 60,
   "id": "9b11782c",
   "metadata": {
    "execution": {
     "iopub.execute_input": "2022-09-18T10:20:30.197810Z",
     "iopub.status.busy": "2022-09-18T10:20:30.197112Z",
     "iopub.status.idle": "2022-09-18T10:20:30.202742Z",
     "shell.execute_reply": "2022-09-18T10:20:30.201750Z"
    },
    "papermill": {
     "duration": 0.043035,
     "end_time": "2022-09-18T10:20:30.204700",
     "exception": false,
     "start_time": "2022-09-18T10:20:30.161665",
     "status": "completed"
    },
    "tags": []
   },
   "outputs": [
    {
     "data": {
      "text/plain": [
       "0.8766543770881042"
      ]
     },
     "execution_count": 60,
     "metadata": {},
     "output_type": "execute_result"
    }
   ],
   "source": [
    "score"
   ]
  },
  {
   "cell_type": "markdown",
   "id": "109bb135",
   "metadata": {
    "papermill": {
     "duration": 0.033506,
     "end_time": "2022-09-18T10:20:30.272481",
     "exception": false,
     "start_time": "2022-09-18T10:20:30.238975",
     "status": "completed"
    },
    "tags": []
   },
   "source": [
    "## Creating Model with Ridge Regression - 87.65%"
   ]
  },
  {
   "cell_type": "code",
   "execution_count": 61,
   "id": "3751f5e6",
   "metadata": {
    "execution": {
     "iopub.execute_input": "2022-09-18T10:20:30.345582Z",
     "iopub.status.busy": "2022-09-18T10:20:30.344801Z",
     "iopub.status.idle": "2022-09-18T10:20:30.349122Z",
     "shell.execute_reply": "2022-09-18T10:20:30.348362Z"
    },
    "papermill": {
     "duration": 0.043428,
     "end_time": "2022-09-18T10:20:30.351248",
     "exception": false,
     "start_time": "2022-09-18T10:20:30.307820",
     "status": "completed"
    },
    "tags": []
   },
   "outputs": [],
   "source": [
    "from sklearn.linear_model import Ridge\n",
    "from sklearn.model_selection import GridSearchCV"
   ]
  },
  {
   "cell_type": "code",
   "execution_count": 62,
   "id": "9dd434da",
   "metadata": {
    "execution": {
     "iopub.execute_input": "2022-09-18T10:20:30.425224Z",
     "iopub.status.busy": "2022-09-18T10:20:30.424493Z",
     "iopub.status.idle": "2022-09-18T10:20:30.428705Z",
     "shell.execute_reply": "2022-09-18T10:20:30.427752Z"
    },
    "papermill": {
     "duration": 0.044089,
     "end_time": "2022-09-18T10:20:30.430709",
     "exception": false,
     "start_time": "2022-09-18T10:20:30.386620",
     "status": "completed"
    },
    "tags": []
   },
   "outputs": [],
   "source": [
    "ridge=Ridge()"
   ]
  },
  {
   "cell_type": "code",
   "execution_count": 63,
   "id": "e09d09b0",
   "metadata": {
    "execution": {
     "iopub.execute_input": "2022-09-18T10:20:30.501964Z",
     "iopub.status.busy": "2022-09-18T10:20:30.501221Z",
     "iopub.status.idle": "2022-09-18T10:20:30.957942Z",
     "shell.execute_reply": "2022-09-18T10:20:30.956404Z"
    },
    "papermill": {
     "duration": 0.497089,
     "end_time": "2022-09-18T10:20:30.962085",
     "exception": false,
     "start_time": "2022-09-18T10:20:30.464996",
     "status": "completed"
    },
    "tags": []
   },
   "outputs": [
    {
     "data": {
      "text/plain": [
       "GridSearchCV(cv=5, estimator=Ridge(),\n",
       "             param_grid={'alpha': [0.01, 0.001, 0.0001, 0.5, 1]},\n",
       "             scoring='neg_mean_squared_error')"
      ]
     },
     "execution_count": 63,
     "metadata": {},
     "output_type": "execute_result"
    }
   ],
   "source": [
    "parameter={'alpha':[0.01,0.001,0.0001,0.5,1]}\n",
    "ridgecv=GridSearchCV(ridge,parameter,scoring='neg_mean_squared_error',cv=5)\n",
    "ridgecv.fit(x_train,y_train)"
   ]
  },
  {
   "cell_type": "code",
   "execution_count": 64,
   "id": "589eac39",
   "metadata": {
    "execution": {
     "iopub.execute_input": "2022-09-18T10:20:31.093147Z",
     "iopub.status.busy": "2022-09-18T10:20:31.092771Z",
     "iopub.status.idle": "2022-09-18T10:20:31.097270Z",
     "shell.execute_reply": "2022-09-18T10:20:31.096582Z"
    },
    "papermill": {
     "duration": 0.046275,
     "end_time": "2022-09-18T10:20:31.100144",
     "exception": false,
     "start_time": "2022-09-18T10:20:31.053869",
     "status": "completed"
    },
    "tags": []
   },
   "outputs": [
    {
     "name": "stdout",
     "output_type": "stream",
     "text": [
      "{'alpha': 0.5}\n"
     ]
    }
   ],
   "source": [
    "print(ridgecv.best_params_)"
   ]
  },
  {
   "cell_type": "code",
   "execution_count": 65,
   "id": "7f07c327",
   "metadata": {
    "execution": {
     "iopub.execute_input": "2022-09-18T10:20:31.173653Z",
     "iopub.status.busy": "2022-09-18T10:20:31.172943Z",
     "iopub.status.idle": "2022-09-18T10:20:31.180746Z",
     "shell.execute_reply": "2022-09-18T10:20:31.179210Z"
    },
    "papermill": {
     "duration": 0.049424,
     "end_time": "2022-09-18T10:20:31.185305",
     "exception": false,
     "start_time": "2022-09-18T10:20:31.135881",
     "status": "completed"
    },
    "tags": []
   },
   "outputs": [],
   "source": [
    "ridge_pred=ridgecv.predict(x_test)"
   ]
  },
  {
   "cell_type": "code",
   "execution_count": 66,
   "id": "1197138b",
   "metadata": {
    "execution": {
     "iopub.execute_input": "2022-09-18T10:20:31.326251Z",
     "iopub.status.busy": "2022-09-18T10:20:31.325748Z",
     "iopub.status.idle": "2022-09-18T10:20:31.866285Z",
     "shell.execute_reply": "2022-09-18T10:20:31.865202Z"
    },
    "papermill": {
     "duration": 0.596197,
     "end_time": "2022-09-18T10:20:31.868710",
     "exception": false,
     "start_time": "2022-09-18T10:20:31.272513",
     "status": "completed"
    },
    "tags": []
   },
   "outputs": [
    {
     "data": {
      "text/plain": [
       "<seaborn.axisgrid.FacetGrid at 0x7f36786bc710>"
      ]
     },
     "execution_count": 66,
     "metadata": {},
     "output_type": "execute_result"
    },
    {
     "data": {
      "image/png": "[encoded data removed]",
      "text/plain": [
       "<Figure size 427.35x360 with 1 Axes>"
      ]
     },
     "metadata": {},
     "output_type": "display_data"
    }
   ],
   "source": [
    "sns.displot(ridge_pred-y_test,kind='kde')"
   ]
  },
  {
   "cell_type": "code",
   "execution_count": 67,
   "id": "83a8b704",
   "metadata": {
    "execution": {
     "iopub.execute_input": "2022-09-18T10:20:31.942094Z",
     "iopub.status.busy": "2022-09-18T10:20:31.941646Z",
     "iopub.status.idle": "2022-09-18T10:20:31.951015Z",
     "shell.execute_reply": "2022-09-18T10:20:31.950036Z"
    },
    "papermill": {
     "duration": 0.049564,
     "end_time": "2022-09-18T10:20:31.953202",
     "exception": false,
     "start_time": "2022-09-18T10:20:31.903638",
     "status": "completed"
    },
    "tags": []
   },
   "outputs": [],
   "source": [
    "rrscore=r2_score(ridge_pred,y_test)"
   ]
  },
  {
   "cell_type": "code",
   "execution_count": 68,
   "id": "ec051f0a",
   "metadata": {
    "execution": {
     "iopub.execute_input": "2022-09-18T10:20:32.030386Z",
     "iopub.status.busy": "2022-09-18T10:20:32.029707Z",
     "iopub.status.idle": "2022-09-18T10:20:32.035163Z",
     "shell.execute_reply": "2022-09-18T10:20:32.034408Z"
    },
    "papermill": {
     "duration": 0.045748,
     "end_time": "2022-09-18T10:20:32.037077",
     "exception": false,
     "start_time": "2022-09-18T10:20:31.991329",
     "status": "completed"
    },
    "tags": []
   },
   "outputs": [
    {
     "data": {
      "text/plain": [
       "0.8765347329503855"
      ]
     },
     "execution_count": 68,
     "metadata": {},
     "output_type": "execute_result"
    }
   ],
   "source": [
    "rrscore"
   ]
  },
  {
   "cell_type": "markdown",
   "id": "46341e0b",
   "metadata": {
    "papermill": {
     "duration": 0.036515,
     "end_time": "2022-09-18T10:20:32.111033",
     "exception": false,
     "start_time": "2022-09-18T10:20:32.074518",
     "status": "completed"
    },
    "tags": []
   },
   "source": [
    "## Creating Model With Lasso Regression - 87.63%"
   ]
  },
  {
   "cell_type": "code",
   "execution_count": 69,
   "id": "482f9c04",
   "metadata": {
    "execution": {
     "iopub.execute_input": "2022-09-18T10:20:32.186214Z",
     "iopub.status.busy": "2022-09-18T10:20:32.185443Z",
     "iopub.status.idle": "2022-09-18T10:20:32.189870Z",
     "shell.execute_reply": "2022-09-18T10:20:32.189029Z"
    },
    "papermill": {
     "duration": 0.044219,
     "end_time": "2022-09-18T10:20:32.192045",
     "exception": false,
     "start_time": "2022-09-18T10:20:32.147826",
     "status": "completed"
    },
    "tags": []
   },
   "outputs": [],
   "source": [
    "from sklearn.linear_model import Lasso"
   ]
  },
  {
   "cell_type": "code",
   "execution_count": 70,
   "id": "58ea98df",
   "metadata": {
    "execution": {
     "iopub.execute_input": "2022-09-18T10:20:32.267120Z",
     "iopub.status.busy": "2022-09-18T10:20:32.266463Z",
     "iopub.status.idle": "2022-09-18T10:20:32.270680Z",
     "shell.execute_reply": "2022-09-18T10:20:32.269645Z"
    },
    "papermill": {
     "duration": 0.044383,
     "end_time": "2022-09-18T10:20:32.272755",
     "exception": false,
     "start_time": "2022-09-18T10:20:32.228372",
     "status": "completed"
    },
    "tags": []
   },
   "outputs": [],
   "source": [
    "lasso=Lasso()"
   ]
  },
  {
   "cell_type": "code",
   "execution_count": 71,
   "id": "104385d3",
   "metadata": {
    "execution": {
     "iopub.execute_input": "2022-09-18T10:20:32.347636Z",
     "iopub.status.busy": "2022-09-18T10:20:32.347219Z",
     "iopub.status.idle": "2022-09-18T10:20:39.948739Z",
     "shell.execute_reply": "2022-09-18T10:20:39.947203Z"
    },
    "papermill": {
     "duration": 7.644741,
     "end_time": "2022-09-18T10:20:39.953393",
     "exception": false,
     "start_time": "2022-09-18T10:20:32.308652",
     "status": "completed"
    },
    "tags": []
   },
   "outputs": [
    {
     "data": {
      "text/plain": [
       "GridSearchCV(cv=5, estimator=Lasso(),\n",
       "             param_grid={'alpha': [0.01, 0.001, 0.0001, 0.5, 1]},\n",
       "             scoring='neg_mean_squared_error')"
      ]
     },
     "execution_count": 71,
     "metadata": {},
     "output_type": "execute_result"
    }
   ],
   "source": [
    "parameter={'alpha':[0.01,0.001,0.0001,0.5,1]}\n",
    "lassocv=GridSearchCV(lasso,parameter,scoring='neg_mean_squared_error',cv=5)\n",
    "lassocv.fit(x_train,y_train)"
   ]
  },
  {
   "cell_type": "code",
   "execution_count": 72,
   "id": "e759bef1",
   "metadata": {
    "execution": {
     "iopub.execute_input": "2022-09-18T10:20:40.092504Z",
     "iopub.status.busy": "2022-09-18T10:20:40.092107Z",
     "iopub.status.idle": "2022-09-18T10:20:40.097670Z",
     "shell.execute_reply": "2022-09-18T10:20:40.096500Z"
    },
    "papermill": {
     "duration": 0.052524,
     "end_time": "2022-09-18T10:20:40.100192",
     "exception": false,
     "start_time": "2022-09-18T10:20:40.047668",
     "status": "completed"
    },
    "tags": []
   },
   "outputs": [
    {
     "name": "stdout",
     "output_type": "stream",
     "text": [
      "{'alpha': 0.5}\n"
     ]
    }
   ],
   "source": [
    "print(lassocv.best_params_)"
   ]
  },
  {
   "cell_type": "code",
   "execution_count": 73,
   "id": "0379a6c5",
   "metadata": {
    "execution": {
     "iopub.execute_input": "2022-09-18T10:20:40.182433Z",
     "iopub.status.busy": "2022-09-18T10:20:40.181114Z",
     "iopub.status.idle": "2022-09-18T10:20:40.191752Z",
     "shell.execute_reply": "2022-09-18T10:20:40.189777Z"
    },
    "papermill": {
     "duration": 0.056776,
     "end_time": "2022-09-18T10:20:40.196601",
     "exception": false,
     "start_time": "2022-09-18T10:20:40.139825",
     "status": "completed"
    },
    "tags": []
   },
   "outputs": [],
   "source": [
    "lasso_pred=lassocv.predict(x_test)"
   ]
  },
  {
   "cell_type": "code",
   "execution_count": 74,
   "id": "be72c30d",
   "metadata": {
    "execution": {
     "iopub.execute_input": "2022-09-18T10:20:40.339880Z",
     "iopub.status.busy": "2022-09-18T10:20:40.339507Z",
     "iopub.status.idle": "2022-09-18T10:20:40.759290Z",
     "shell.execute_reply": "2022-09-18T10:20:40.758097Z"
    },
    "papermill": {
     "duration": 0.474879,
     "end_time": "2022-09-18T10:20:40.761829",
     "exception": false,
     "start_time": "2022-09-18T10:20:40.286950",
     "status": "completed"
    },
    "tags": []
   },
   "outputs": [
    {
     "data": {
      "text/plain": [
       "<seaborn.axisgrid.FacetGrid at 0x7f36786a9510>"
      ]
     },
     "execution_count": 74,
     "metadata": {},
     "output_type": "execute_result"
    },
    {
     "data": {
      "image/png": "[encoded data removed]",
      "text/plain": [
       "<Figure size 360x360 with 1 Axes>"
      ]
     },
     "metadata": {},
     "output_type": "display_data"
    }
   ],
   "source": [
    "sns.displot(lasso_pred,kind='kde')"
   ]
  },
  {
   "cell_type": "code",
   "execution_count": 75,
   "id": "f22a6ca4",
   "metadata": {
    "execution": {
     "iopub.execute_input": "2022-09-18T10:20:40.838414Z",
     "iopub.status.busy": "2022-09-18T10:20:40.837832Z",
     "iopub.status.idle": "2022-09-18T10:20:40.845448Z",
     "shell.execute_reply": "2022-09-18T10:20:40.844377Z"
    },
    "papermill": {
     "duration": 0.048305,
     "end_time": "2022-09-18T10:20:40.847913",
     "exception": false,
     "start_time": "2022-09-18T10:20:40.799608",
     "status": "completed"
    },
    "tags": []
   },
   "outputs": [],
   "source": [
    "lrscore=r2_score(lasso_pred,y_test)"
   ]
  },
  {
   "cell_type": "code",
   "execution_count": 76,
   "id": "1771db89",
   "metadata": {
    "execution": {
     "iopub.execute_input": "2022-09-18T10:20:40.928638Z",
     "iopub.status.busy": "2022-09-18T10:20:40.928125Z",
     "iopub.status.idle": "2022-09-18T10:20:40.935134Z",
     "shell.execute_reply": "2022-09-18T10:20:40.934049Z"
    },
    "papermill": {
     "duration": 0.04965,
     "end_time": "2022-09-18T10:20:40.937099",
     "exception": false,
     "start_time": "2022-09-18T10:20:40.887449",
     "status": "completed"
    },
    "tags": []
   },
   "outputs": [
    {
     "data": {
      "text/plain": [
       "0.8763016211053882"
      ]
     },
     "execution_count": 76,
     "metadata": {},
     "output_type": "execute_result"
    }
   ],
   "source": [
    "lrscore"
   ]
  },
  {
   "cell_type": "code",
   "execution_count": 77,
   "id": "739bb335",
   "metadata": {
    "execution": {
     "iopub.execute_input": "2022-09-18T10:20:41.016199Z",
     "iopub.status.busy": "2022-09-18T10:20:41.015079Z",
     "iopub.status.idle": "2022-09-18T10:20:41.226229Z",
     "shell.execute_reply": "2022-09-18T10:20:41.225381Z"
    },
    "papermill": {
     "duration": 0.25246,
     "end_time": "2022-09-18T10:20:41.228184",
     "exception": false,
     "start_time": "2022-09-18T10:20:40.975724",
     "status": "completed"
    },
    "tags": []
   },
   "outputs": [
    {
     "data": {
      "image/png": "[encoded data removed]",
      "text/plain": [
       "<Figure size 1080x360 with 1 Axes>"
      ]
     },
     "metadata": {},
     "output_type": "display_data"
    }
   ],
   "source": [
    "plt.style.use('seaborn-darkgrid')\n",
    "plt.figure(figsize=(15, 5))\n",
    "models = ['Linear Regression', 'Ridge Regression','Lasso Regression']\n",
    "test_accuracy = [score, rrscore,lrscore]\n",
    "plt.plot(models, test_accuracy, color='blue')\n",
    "plt.ylim(0.60, 1.0)\n",
    "plt.ylabel(\"Accuracy Score\")\n",
    "plt.show()"
   ]
  },
  {
   "cell_type": "code",
   "execution_count": 78,
   "id": "4a5b38ba",
   "metadata": {
    "execution": {
     "iopub.execute_input": "2022-09-18T10:20:41.304006Z",
     "iopub.status.busy": "2022-09-18T10:20:41.303619Z",
     "iopub.status.idle": "2022-09-18T10:21:32.826482Z",
     "shell.execute_reply": "2022-09-18T10:21:32.825321Z"
    },
    "papermill": {
     "duration": 51.594474,
     "end_time": "2022-09-18T10:21:32.859060",
     "exception": false,
     "start_time": "2022-09-18T10:20:41.264586",
     "status": "completed"
    },
    "tags": []
   },
   "outputs": [
    {
     "name": "stdout",
     "output_type": "stream",
     "text": [
      "CPU times: user 57 s, sys: 690 ms, total: 57.7 s\n",
      "Wall time: 51.5 s\n"
     ]
    }
   ],
   "source": [
    "%%time\n",
    "from sklearn.linear_model import LinearRegression\n",
    "from sklearn.svm import SVR\n",
    "from sklearn.tree import DecisionTreeRegressor\n",
    "from sklearn.neighbors import KNeighborsRegressor\n",
    "from sklearn.ensemble import RandomForestRegressor\n",
    "from sklearn.ensemble import AdaBoostRegressor\n",
    "from sklearn.ensemble import GradientBoostingRegressor\n",
    "import xgboost as xgb\n",
    "test_score=[]\n",
    "train_score=[]\n",
    "modell=[]\n",
    "\n",
    "from sklearn.pipeline import Pipeline\n",
    "pipeline_lr = Pipeline([('lr', LinearRegression())])\n",
    "pipeline_svr = Pipeline([('svr', SVR())])\n",
    "pipeline_dt = Pipeline([('dt', DecisionTreeRegressor())])\n",
    "pipeline_knn = Pipeline([('knn', KNeighborsRegressor())])\n",
    "pipelines_rf = Pipeline([('rf', RandomForestRegressor())])\n",
    "pipelines_ab = Pipeline([('ab', AdaBoostRegressor())])\n",
    "pipelines_gb = Pipeline([('gb', GradientBoostingRegressor())])\n",
    "pipelines_xgb = Pipeline([('xgb', xgb.XGBRegressor())])\n",
    "\n",
    "pipelines = [pipeline_lr, pipeline_svr, pipeline_dt, pipeline_knn,pipelines_rf,pipelines_ab, pipelines_xgb, pipelines_xgb]\n",
    "\n",
    "pipe_dict = {0: 'Linear Regression', \n",
    "             1: 'Support Vector Regression', \n",
    "             2: 'Decision Tree Regression',\n",
    "             3: 'K-Neighbors Regression',\n",
    "             4: 'Random Forest Regression',\n",
    "             5: 'Ada Boost',\n",
    "             6: 'Gradient Boost',\n",
    "             7: 'Xgboost'}\n",
    "\n",
    "for pipe in pipelines:\n",
    "    pipe.fit(x_train, y_train)\n",
    "    \n",
    "for i, model in enumerate(pipelines):\n",
    "    test_score.append(model.score(x_test, y_test))\n",
    "    train_score.append(model.score(x_train, y_train))\n",
    "    modell.append(pipe_dict[i])"
   ]
  },
  {
   "cell_type": "code",
   "execution_count": 79,
   "id": "af89b88e",
   "metadata": {
    "execution": {
     "iopub.execute_input": "2022-09-18T10:21:32.934251Z",
     "iopub.status.busy": "2022-09-18T10:21:32.933863Z",
     "iopub.status.idle": "2022-09-18T10:21:33.189934Z",
     "shell.execute_reply": "2022-09-18T10:21:33.188810Z"
    },
    "papermill": {
     "duration": 0.296909,
     "end_time": "2022-09-18T10:21:33.192724",
     "exception": false,
     "start_time": "2022-09-18T10:21:32.895815",
     "status": "completed"
    },
    "tags": []
   },
   "outputs": [
    {
     "data": {
      "image/png": "[encoded data removed]",
      "text/plain": [
       "<Figure size 1440x360 with 1 Axes>"
      ]
     },
     "metadata": {},
     "output_type": "display_data"
    }
   ],
   "source": [
    "plt.style.use('seaborn-darkgrid')\n",
    "plt.figure(figsize=(20, 5))\n",
    "plt.plot(modell,test_score, color='teal')\n",
    "plt.plot(modell,train_score, color='blue')\n",
    "plt.ylim(-0.2, 1.1)\n",
    "plt.ylabel(\"Accuracy Score\")\n",
    "plt.show()"
   ]
  },
  {
   "cell_type": "code",
   "execution_count": 80,
   "id": "03b8ea2a",
   "metadata": {
    "execution": {
     "iopub.execute_input": "2022-09-18T10:21:33.270562Z",
     "iopub.status.busy": "2022-09-18T10:21:33.270187Z",
     "iopub.status.idle": "2022-09-18T10:21:56.302530Z",
     "shell.execute_reply": "2022-09-18T10:21:56.301264Z"
    },
    "papermill": {
     "duration": 23.074048,
     "end_time": "2022-09-18T10:21:56.305321",
     "exception": false,
     "start_time": "2022-09-18T10:21:33.231273",
     "status": "completed"
    },
    "tags": []
   },
   "outputs": [
    {
     "name": "stdout",
     "output_type": "stream",
     "text": [
      "Linear Regression has test accuracy: 0.89\n",
      "Linear Regression has train accuracy: 0.89\n",
      "\n",
      "Support Vector Regression has test accuracy: -0.13\n",
      "Support Vector Regression has train accuracy: -0.14\n",
      "\n",
      "Decision Tree Regression has test accuracy: 0.96\n",
      "Decision Tree Regression has train accuracy: 1.0\n",
      "\n",
      "K-Neighbors Regression has test accuracy: 0.94\n",
      "K-Neighbors Regression has train accuracy: 0.96\n",
      "\n",
      "Random Forest Regression has test accuracy: 0.98\n",
      "Random Forest Regression has train accuracy: 1.0\n",
      "\n",
      "Ada Boost has test accuracy: 0.91\n",
      "Ada Boost has train accuracy: 0.91\n",
      "\n",
      "Gradient Boost has test accuracy: 0.98\n",
      "Gradient Boost has train accuracy: 0.99\n",
      "\n",
      "Xgboost has test accuracy: 0.98\n",
      "Xgboost has train accuracy: 0.99\n",
      "\n"
     ]
    }
   ],
   "source": [
    "for i, model in enumerate(pipelines):\n",
    "    print(f'{pipe_dict[i]} has test accuracy: {round(model.score(x_test, y_test),2)}')\n",
    "    print(f'{pipe_dict[i]} has train accuracy: {round(model.score(x_train, y_train),2)}')\n",
    "    print('')"
   ]
  },
  {
   "cell_type": "code",
   "execution_count": null,
   "id": "f13801f1",
   "metadata": {
    "papermill": {
     "duration": 0.036177,
     "end_time": "2022-09-18T10:21:56.380722",
     "exception": false,
     "start_time": "2022-09-18T10:21:56.344545",
     "status": "completed"
    },
    "tags": []
   },
   "outputs": [],
   "source": []
  }
 ],
 "metadata": {
  "kernelspec": {
   "display_name": "Python 3",
   "language": "python",
   "name": "python3"
  },
  "language_info": {
   "codemirror_mode": {
    "name": "ipython",
    "version": 3
   },
   "file_extension": ".py",
   "mimetype": "text/x-python",
   "name": "python",
   "nbconvert_exporter": "python",
   "pygments_lexer": "ipython3",
   "version": "3.7.12"
  },
  "papermill": {
   "default_parameters": {},
   "duration": 113.29758,
   "end_time": "2022-09-18T10:21:57.241076",
   "environment_variables": {},
   "exception": null,
   "input_path": "__notebook__.ipynb",
   "output_path": "__notebook__.ipynb",
   "parameters": {},
   "start_time": "2022-09-18T10:20:03.943496",
   "version": "2.3.4"
  }
 },
 "nbformat": 4,
 "nbformat_minor": 5
}
